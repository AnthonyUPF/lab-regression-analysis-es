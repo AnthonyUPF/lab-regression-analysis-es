{
 "cells": [
  {
   "cell_type": "markdown",
   "metadata": {},
   "source": [
    "# Laboratorio: Análisis de Regresión\n",
    "\n",
    "### Antes de empezar:\n",
    "\n",
    "* Lee el archivo README.md\n",
    "* Comenta tanto como puedas y utiliza los recursos (archivo README.md)\n",
    "\n",
    "¡Feliz aprendizaje!\n",
    "\n",
    "## Desafío 1\n",
    "Trabajo en un bootcamp de programación, y he desarrollado una teoría de que cuanto más jóvenes son mis estudiantes, más a menudo llegan tarde a clase. Para probar mi hipótesis, he recopilado algunos datos en la siguiente tabla:\n",
    "\n",
    "| StudentID | Edad | Retrasos |\n",
    "|--------|-----|------------|\n",
    "| 1      | 17  | 10         |\n",
    "| 2      | 51  | 1          |\n",
    "| 3      | 27  | 5          |\n",
    "| 4      | 21  | 9         |\n",
    "| 5      | 36  |  4         |\n",
    "| 6      | 48  |  2         |\n",
    "| 7      | 19  |  9         |\n",
    "| 8      | 26  | 6          |\n",
    "| 9      | 54  |  0         |\n",
    "| 10     | 30  |  3         |\n"
   ]
  },
  {
   "cell_type": "code",
   "execution_count": 2,
   "metadata": {},
   "outputs": [],
   "source": [
    "import pandas as pd\n",
    "import numpy as np\n",
    "import plotly.express as px\n",
    "import statsmodels.formula.api as smf\n",
    "from sklearn.linear_model import LinearRegression\n",
    "import matplotlib.pyplot as plt\n",
    "import seaborn as sns"
   ]
  },
  {
   "cell_type": "markdown",
   "metadata": {},
   "source": [
    "Utiliza este comando para crear un dataframe con los datos proporcionados en la tabla.\n",
    "~~~~\n",
    "student_data = pd.DataFrame({'Edad': [17,51,27,21,36,48,19,26,54,30], 'Retrasos': [10,1,5,9,4,2,9,6,0,3]})\n",
    "~~~~"
   ]
  },
  {
   "cell_type": "code",
   "execution_count": 4,
   "metadata": {},
   "outputs": [
    {
     "data": {
      "text/html": [
       "<div>\n",
       "<style scoped>\n",
       "    .dataframe tbody tr th:only-of-type {\n",
       "        vertical-align: middle;\n",
       "    }\n",
       "\n",
       "    .dataframe tbody tr th {\n",
       "        vertical-align: top;\n",
       "    }\n",
       "\n",
       "    .dataframe thead th {\n",
       "        text-align: right;\n",
       "    }\n",
       "</style>\n",
       "<table border=\"1\" class=\"dataframe\">\n",
       "  <thead>\n",
       "    <tr style=\"text-align: right;\">\n",
       "      <th></th>\n",
       "      <th>StudentID</th>\n",
       "      <th>Edad</th>\n",
       "      <th>Retrasos</th>\n",
       "    </tr>\n",
       "  </thead>\n",
       "  <tbody>\n",
       "    <tr>\n",
       "      <th>0</th>\n",
       "      <td>1</td>\n",
       "      <td>17</td>\n",
       "      <td>10</td>\n",
       "    </tr>\n",
       "    <tr>\n",
       "      <th>1</th>\n",
       "      <td>2</td>\n",
       "      <td>51</td>\n",
       "      <td>1</td>\n",
       "    </tr>\n",
       "    <tr>\n",
       "      <th>2</th>\n",
       "      <td>3</td>\n",
       "      <td>27</td>\n",
       "      <td>5</td>\n",
       "    </tr>\n",
       "    <tr>\n",
       "      <th>3</th>\n",
       "      <td>4</td>\n",
       "      <td>21</td>\n",
       "      <td>9</td>\n",
       "    </tr>\n",
       "    <tr>\n",
       "      <th>4</th>\n",
       "      <td>5</td>\n",
       "      <td>36</td>\n",
       "      <td>4</td>\n",
       "    </tr>\n",
       "    <tr>\n",
       "      <th>5</th>\n",
       "      <td>6</td>\n",
       "      <td>48</td>\n",
       "      <td>2</td>\n",
       "    </tr>\n",
       "    <tr>\n",
       "      <th>6</th>\n",
       "      <td>7</td>\n",
       "      <td>19</td>\n",
       "      <td>9</td>\n",
       "    </tr>\n",
       "    <tr>\n",
       "      <th>7</th>\n",
       "      <td>8</td>\n",
       "      <td>26</td>\n",
       "      <td>6</td>\n",
       "    </tr>\n",
       "    <tr>\n",
       "      <th>8</th>\n",
       "      <td>9</td>\n",
       "      <td>54</td>\n",
       "      <td>0</td>\n",
       "    </tr>\n",
       "    <tr>\n",
       "      <th>9</th>\n",
       "      <td>10</td>\n",
       "      <td>30</td>\n",
       "      <td>3</td>\n",
       "    </tr>\n",
       "  </tbody>\n",
       "</table>\n",
       "</div>"
      ],
      "text/plain": [
       "   StudentID  Edad  Retrasos\n",
       "0          1    17        10\n",
       "1          2    51         1\n",
       "2          3    27         5\n",
       "3          4    21         9\n",
       "4          5    36         4\n",
       "5          6    48         2\n",
       "6          7    19         9\n",
       "7          8    26         6\n",
       "8          9    54         0\n",
       "9         10    30         3"
      ]
     },
     "execution_count": 4,
     "metadata": {},
     "output_type": "execute_result"
    }
   ],
   "source": [
    "# Your code here. \n",
    "\n",
    "student_data = pd.DataFrame({\n",
    "    'StudentID': range(1, 11),\n",
    "    'Edad': [17, 51, 27, 21, 36, 48, 19, 26, 54, 30], \n",
    "    'Retrasos': [10, 1, 5, 9, 4, 2, 9, 6, 0, 3]\n",
    "})\n",
    "\n",
    "\n",
    "student_data"
   ]
  },
  {
   "cell_type": "markdown",
   "metadata": {},
   "source": [
    "Dibuja un diagrama de dispersión (scatter plot) para los datos."
   ]
  },
  {
   "cell_type": "code",
   "execution_count": 16,
   "metadata": {},
   "outputs": [
    {
     "data": {
      "application/vnd.plotly.v1+json": {
       "config": {
        "plotlyServerURL": "https://plot.ly"
       },
       "data": [
        {
         "customdata": [
          [
           1
          ],
          [
           2
          ],
          [
           3
          ],
          [
           4
          ],
          [
           5
          ],
          [
           6
          ],
          [
           7
          ],
          [
           8
          ],
          [
           9
          ],
          [
           10
          ]
         ],
         "hovertemplate": "Edad del Estudiante=%{x}<br>Cantidad de Retrasos=%{y}<br>StudentID=%{customdata[0]}<extra></extra>",
         "legendgroup": "",
         "marker": {
          "color": "#636efa",
          "symbol": "circle"
         },
         "mode": "markers",
         "name": "",
         "orientation": "v",
         "showlegend": false,
         "type": "scatter",
         "x": [
          17,
          51,
          27,
          21,
          36,
          48,
          19,
          26,
          54,
          30
         ],
         "xaxis": "x",
         "y": [
          10,
          1,
          5,
          9,
          4,
          2,
          9,
          6,
          0,
          3
         ],
         "yaxis": "y"
        }
       ],
       "layout": {
        "autosize": true,
        "legend": {
         "tracegroupgap": 0
        },
        "template": {
         "data": {
          "bar": [
           {
            "error_x": {
             "color": "#2a3f5f"
            },
            "error_y": {
             "color": "#2a3f5f"
            },
            "marker": {
             "line": {
              "color": "#E5ECF6",
              "width": 0.5
             },
             "pattern": {
              "fillmode": "overlay",
              "size": 10,
              "solidity": 0.2
             }
            },
            "type": "bar"
           }
          ],
          "barpolar": [
           {
            "marker": {
             "line": {
              "color": "#E5ECF6",
              "width": 0.5
             },
             "pattern": {
              "fillmode": "overlay",
              "size": 10,
              "solidity": 0.2
             }
            },
            "type": "barpolar"
           }
          ],
          "carpet": [
           {
            "aaxis": {
             "endlinecolor": "#2a3f5f",
             "gridcolor": "white",
             "linecolor": "white",
             "minorgridcolor": "white",
             "startlinecolor": "#2a3f5f"
            },
            "baxis": {
             "endlinecolor": "#2a3f5f",
             "gridcolor": "white",
             "linecolor": "white",
             "minorgridcolor": "white",
             "startlinecolor": "#2a3f5f"
            },
            "type": "carpet"
           }
          ],
          "choropleth": [
           {
            "colorbar": {
             "outlinewidth": 0,
             "ticks": ""
            },
            "type": "choropleth"
           }
          ],
          "contour": [
           {
            "colorbar": {
             "outlinewidth": 0,
             "ticks": ""
            },
            "colorscale": [
             [
              0,
              "#0d0887"
             ],
             [
              0.1111111111111111,
              "#46039f"
             ],
             [
              0.2222222222222222,
              "#7201a8"
             ],
             [
              0.3333333333333333,
              "#9c179e"
             ],
             [
              0.4444444444444444,
              "#bd3786"
             ],
             [
              0.5555555555555556,
              "#d8576b"
             ],
             [
              0.6666666666666666,
              "#ed7953"
             ],
             [
              0.7777777777777778,
              "#fb9f3a"
             ],
             [
              0.8888888888888888,
              "#fdca26"
             ],
             [
              1,
              "#f0f921"
             ]
            ],
            "type": "contour"
           }
          ],
          "contourcarpet": [
           {
            "colorbar": {
             "outlinewidth": 0,
             "ticks": ""
            },
            "type": "contourcarpet"
           }
          ],
          "heatmap": [
           {
            "colorbar": {
             "outlinewidth": 0,
             "ticks": ""
            },
            "colorscale": [
             [
              0,
              "#0d0887"
             ],
             [
              0.1111111111111111,
              "#46039f"
             ],
             [
              0.2222222222222222,
              "#7201a8"
             ],
             [
              0.3333333333333333,
              "#9c179e"
             ],
             [
              0.4444444444444444,
              "#bd3786"
             ],
             [
              0.5555555555555556,
              "#d8576b"
             ],
             [
              0.6666666666666666,
              "#ed7953"
             ],
             [
              0.7777777777777778,
              "#fb9f3a"
             ],
             [
              0.8888888888888888,
              "#fdca26"
             ],
             [
              1,
              "#f0f921"
             ]
            ],
            "type": "heatmap"
           }
          ],
          "heatmapgl": [
           {
            "colorbar": {
             "outlinewidth": 0,
             "ticks": ""
            },
            "colorscale": [
             [
              0,
              "#0d0887"
             ],
             [
              0.1111111111111111,
              "#46039f"
             ],
             [
              0.2222222222222222,
              "#7201a8"
             ],
             [
              0.3333333333333333,
              "#9c179e"
             ],
             [
              0.4444444444444444,
              "#bd3786"
             ],
             [
              0.5555555555555556,
              "#d8576b"
             ],
             [
              0.6666666666666666,
              "#ed7953"
             ],
             [
              0.7777777777777778,
              "#fb9f3a"
             ],
             [
              0.8888888888888888,
              "#fdca26"
             ],
             [
              1,
              "#f0f921"
             ]
            ],
            "type": "heatmapgl"
           }
          ],
          "histogram": [
           {
            "marker": {
             "pattern": {
              "fillmode": "overlay",
              "size": 10,
              "solidity": 0.2
             }
            },
            "type": "histogram"
           }
          ],
          "histogram2d": [
           {
            "colorbar": {
             "outlinewidth": 0,
             "ticks": ""
            },
            "colorscale": [
             [
              0,
              "#0d0887"
             ],
             [
              0.1111111111111111,
              "#46039f"
             ],
             [
              0.2222222222222222,
              "#7201a8"
             ],
             [
              0.3333333333333333,
              "#9c179e"
             ],
             [
              0.4444444444444444,
              "#bd3786"
             ],
             [
              0.5555555555555556,
              "#d8576b"
             ],
             [
              0.6666666666666666,
              "#ed7953"
             ],
             [
              0.7777777777777778,
              "#fb9f3a"
             ],
             [
              0.8888888888888888,
              "#fdca26"
             ],
             [
              1,
              "#f0f921"
             ]
            ],
            "type": "histogram2d"
           }
          ],
          "histogram2dcontour": [
           {
            "colorbar": {
             "outlinewidth": 0,
             "ticks": ""
            },
            "colorscale": [
             [
              0,
              "#0d0887"
             ],
             [
              0.1111111111111111,
              "#46039f"
             ],
             [
              0.2222222222222222,
              "#7201a8"
             ],
             [
              0.3333333333333333,
              "#9c179e"
             ],
             [
              0.4444444444444444,
              "#bd3786"
             ],
             [
              0.5555555555555556,
              "#d8576b"
             ],
             [
              0.6666666666666666,
              "#ed7953"
             ],
             [
              0.7777777777777778,
              "#fb9f3a"
             ],
             [
              0.8888888888888888,
              "#fdca26"
             ],
             [
              1,
              "#f0f921"
             ]
            ],
            "type": "histogram2dcontour"
           }
          ],
          "mesh3d": [
           {
            "colorbar": {
             "outlinewidth": 0,
             "ticks": ""
            },
            "type": "mesh3d"
           }
          ],
          "parcoords": [
           {
            "line": {
             "colorbar": {
              "outlinewidth": 0,
              "ticks": ""
             }
            },
            "type": "parcoords"
           }
          ],
          "pie": [
           {
            "automargin": true,
            "type": "pie"
           }
          ],
          "scatter": [
           {
            "fillpattern": {
             "fillmode": "overlay",
             "size": 10,
             "solidity": 0.2
            },
            "type": "scatter"
           }
          ],
          "scatter3d": [
           {
            "line": {
             "colorbar": {
              "outlinewidth": 0,
              "ticks": ""
             }
            },
            "marker": {
             "colorbar": {
              "outlinewidth": 0,
              "ticks": ""
             }
            },
            "type": "scatter3d"
           }
          ],
          "scattercarpet": [
           {
            "marker": {
             "colorbar": {
              "outlinewidth": 0,
              "ticks": ""
             }
            },
            "type": "scattercarpet"
           }
          ],
          "scattergeo": [
           {
            "marker": {
             "colorbar": {
              "outlinewidth": 0,
              "ticks": ""
             }
            },
            "type": "scattergeo"
           }
          ],
          "scattergl": [
           {
            "marker": {
             "colorbar": {
              "outlinewidth": 0,
              "ticks": ""
             }
            },
            "type": "scattergl"
           }
          ],
          "scattermapbox": [
           {
            "marker": {
             "colorbar": {
              "outlinewidth": 0,
              "ticks": ""
             }
            },
            "type": "scattermapbox"
           }
          ],
          "scatterpolar": [
           {
            "marker": {
             "colorbar": {
              "outlinewidth": 0,
              "ticks": ""
             }
            },
            "type": "scatterpolar"
           }
          ],
          "scatterpolargl": [
           {
            "marker": {
             "colorbar": {
              "outlinewidth": 0,
              "ticks": ""
             }
            },
            "type": "scatterpolargl"
           }
          ],
          "scatterternary": [
           {
            "marker": {
             "colorbar": {
              "outlinewidth": 0,
              "ticks": ""
             }
            },
            "type": "scatterternary"
           }
          ],
          "surface": [
           {
            "colorbar": {
             "outlinewidth": 0,
             "ticks": ""
            },
            "colorscale": [
             [
              0,
              "#0d0887"
             ],
             [
              0.1111111111111111,
              "#46039f"
             ],
             [
              0.2222222222222222,
              "#7201a8"
             ],
             [
              0.3333333333333333,
              "#9c179e"
             ],
             [
              0.4444444444444444,
              "#bd3786"
             ],
             [
              0.5555555555555556,
              "#d8576b"
             ],
             [
              0.6666666666666666,
              "#ed7953"
             ],
             [
              0.7777777777777778,
              "#fb9f3a"
             ],
             [
              0.8888888888888888,
              "#fdca26"
             ],
             [
              1,
              "#f0f921"
             ]
            ],
            "type": "surface"
           }
          ],
          "table": [
           {
            "cells": {
             "fill": {
              "color": "#EBF0F8"
             },
             "line": {
              "color": "white"
             }
            },
            "header": {
             "fill": {
              "color": "#C8D4E3"
             },
             "line": {
              "color": "white"
             }
            },
            "type": "table"
           }
          ]
         },
         "layout": {
          "annotationdefaults": {
           "arrowcolor": "#2a3f5f",
           "arrowhead": 0,
           "arrowwidth": 1
          },
          "autotypenumbers": "strict",
          "coloraxis": {
           "colorbar": {
            "outlinewidth": 0,
            "ticks": ""
           }
          },
          "colorscale": {
           "diverging": [
            [
             0,
             "#8e0152"
            ],
            [
             0.1,
             "#c51b7d"
            ],
            [
             0.2,
             "#de77ae"
            ],
            [
             0.3,
             "#f1b6da"
            ],
            [
             0.4,
             "#fde0ef"
            ],
            [
             0.5,
             "#f7f7f7"
            ],
            [
             0.6,
             "#e6f5d0"
            ],
            [
             0.7,
             "#b8e186"
            ],
            [
             0.8,
             "#7fbc41"
            ],
            [
             0.9,
             "#4d9221"
            ],
            [
             1,
             "#276419"
            ]
           ],
           "sequential": [
            [
             0,
             "#0d0887"
            ],
            [
             0.1111111111111111,
             "#46039f"
            ],
            [
             0.2222222222222222,
             "#7201a8"
            ],
            [
             0.3333333333333333,
             "#9c179e"
            ],
            [
             0.4444444444444444,
             "#bd3786"
            ],
            [
             0.5555555555555556,
             "#d8576b"
            ],
            [
             0.6666666666666666,
             "#ed7953"
            ],
            [
             0.7777777777777778,
             "#fb9f3a"
            ],
            [
             0.8888888888888888,
             "#fdca26"
            ],
            [
             1,
             "#f0f921"
            ]
           ],
           "sequentialminus": [
            [
             0,
             "#0d0887"
            ],
            [
             0.1111111111111111,
             "#46039f"
            ],
            [
             0.2222222222222222,
             "#7201a8"
            ],
            [
             0.3333333333333333,
             "#9c179e"
            ],
            [
             0.4444444444444444,
             "#bd3786"
            ],
            [
             0.5555555555555556,
             "#d8576b"
            ],
            [
             0.6666666666666666,
             "#ed7953"
            ],
            [
             0.7777777777777778,
             "#fb9f3a"
            ],
            [
             0.8888888888888888,
             "#fdca26"
            ],
            [
             1,
             "#f0f921"
            ]
           ]
          },
          "colorway": [
           "#636efa",
           "#EF553B",
           "#00cc96",
           "#ab63fa",
           "#FFA15A",
           "#19d3f3",
           "#FF6692",
           "#B6E880",
           "#FF97FF",
           "#FECB52"
          ],
          "font": {
           "color": "#2a3f5f"
          },
          "geo": {
           "bgcolor": "white",
           "lakecolor": "white",
           "landcolor": "#E5ECF6",
           "showlakes": true,
           "showland": true,
           "subunitcolor": "white"
          },
          "hoverlabel": {
           "align": "left"
          },
          "hovermode": "closest",
          "mapbox": {
           "style": "light"
          },
          "paper_bgcolor": "white",
          "plot_bgcolor": "#E5ECF6",
          "polar": {
           "angularaxis": {
            "gridcolor": "white",
            "linecolor": "white",
            "ticks": ""
           },
           "bgcolor": "#E5ECF6",
           "radialaxis": {
            "gridcolor": "white",
            "linecolor": "white",
            "ticks": ""
           }
          },
          "scene": {
           "xaxis": {
            "backgroundcolor": "#E5ECF6",
            "gridcolor": "white",
            "gridwidth": 2,
            "linecolor": "white",
            "showbackground": true,
            "ticks": "",
            "zerolinecolor": "white"
           },
           "yaxis": {
            "backgroundcolor": "#E5ECF6",
            "gridcolor": "white",
            "gridwidth": 2,
            "linecolor": "white",
            "showbackground": true,
            "ticks": "",
            "zerolinecolor": "white"
           },
           "zaxis": {
            "backgroundcolor": "#E5ECF6",
            "gridcolor": "white",
            "gridwidth": 2,
            "linecolor": "white",
            "showbackground": true,
            "ticks": "",
            "zerolinecolor": "white"
           }
          },
          "shapedefaults": {
           "line": {
            "color": "#2a3f5f"
           }
          },
          "ternary": {
           "aaxis": {
            "gridcolor": "white",
            "linecolor": "white",
            "ticks": ""
           },
           "baxis": {
            "gridcolor": "white",
            "linecolor": "white",
            "ticks": ""
           },
           "bgcolor": "#E5ECF6",
           "caxis": {
            "gridcolor": "white",
            "linecolor": "white",
            "ticks": ""
           }
          },
          "title": {
           "x": 0.05
          },
          "xaxis": {
           "automargin": true,
           "gridcolor": "white",
           "linecolor": "white",
           "ticks": "",
           "title": {
            "standoff": 15
           },
           "zerolinecolor": "white",
           "zerolinewidth": 2
          },
          "yaxis": {
           "automargin": true,
           "gridcolor": "white",
           "linecolor": "white",
           "ticks": "",
           "title": {
            "standoff": 15
           },
           "zerolinecolor": "white",
           "zerolinewidth": 2
          }
         }
        },
        "title": {
         "text": "Diagrama de Dispersión: Edad vs Retrasos"
        },
        "xaxis": {
         "anchor": "y",
         "autorange": true,
         "domain": [
          0,
          1
         ],
         "range": [
          14.698917025003983,
          56.30108297499602
         ],
         "title": {
          "text": "Edad del Estudiante"
         },
         "type": "linear"
        },
        "yaxis": {
         "anchor": "x",
         "autorange": true,
         "domain": [
          0,
          1
         ],
         "range": [
          -0.6680161943319839,
          10.668016194331983
         ],
         "title": {
          "text": "Cantidad de Retrasos"
         },
         "type": "linear"
        }
       }
      },
      "image/png": "[encoded data removed]",
      "text/html": [
       "<div>                            <div id=\"973539c6-372b-46a0-a1cc-9ac3e635840f\" class=\"plotly-graph-div\" style=\"height:600px; width:100%;\"></div>            <script type=\"text/javascript\">                require([\"plotly\"], function(Plotly) {                    window.PLOTLYENV=window.PLOTLYENV || {};                                    if (document.getElementById(\"973539c6-372b-46a0-a1cc-9ac3e635840f\")) {                    Plotly.newPlot(                        \"973539c6-372b-46a0-a1cc-9ac3e635840f\",                        [{\"customdata\":[[1],[2],[3],[4],[5],[6],[7],[8],[9],[10]],\"hovertemplate\":\"Edad del Estudiante=%{x}\\u003cbr\\u003eCantidad de Retrasos=%{y}\\u003cbr\\u003eStudentID=%{customdata[0]}\\u003cextra\\u003e\\u003c\\u002fextra\\u003e\",\"legendgroup\":\"\",\"marker\":{\"color\":\"#636efa\",\"symbol\":\"circle\"},\"mode\":\"markers\",\"name\":\"\",\"orientation\":\"v\",\"showlegend\":false,\"x\":[17,51,27,21,36,48,19,26,54,30],\"xaxis\":\"x\",\"y\":[10,1,5,9,4,2,9,6,0,3],\"yaxis\":\"y\",\"type\":\"scatter\"}],                        {\"template\":{\"data\":{\"histogram2dcontour\":[{\"type\":\"histogram2dcontour\",\"colorbar\":{\"outlinewidth\":0,\"ticks\":\"\"},\"colorscale\":[[0.0,\"#0d0887\"],[0.1111111111111111,\"#46039f\"],[0.2222222222222222,\"#7201a8\"],[0.3333333333333333,\"#9c179e\"],[0.4444444444444444,\"#bd3786\"],[0.5555555555555556,\"#d8576b\"],[0.6666666666666666,\"#ed7953\"],[0.7777777777777778,\"#fb9f3a\"],[0.8888888888888888,\"#fdca26\"],[1.0,\"#f0f921\"]]}],\"choropleth\":[{\"type\":\"choropleth\",\"colorbar\":{\"outlinewidth\":0,\"ticks\":\"\"}}],\"histogram2d\":[{\"type\":\"histogram2d\",\"colorbar\":{\"outlinewidth\":0,\"ticks\":\"\"},\"colorscale\":[[0.0,\"#0d0887\"],[0.1111111111111111,\"#46039f\"],[0.2222222222222222,\"#7201a8\"],[0.3333333333333333,\"#9c179e\"],[0.4444444444444444,\"#bd3786\"],[0.5555555555555556,\"#d8576b\"],[0.6666666666666666,\"#ed7953\"],[0.7777777777777778,\"#fb9f3a\"],[0.8888888888888888,\"#fdca26\"],[1.0,\"#f0f921\"]]}],\"heatmap\":[{\"type\":\"heatmap\",\"colorbar\":{\"outlinewidth\":0,\"ticks\":\"\"},\"colorscale\":[[0.0,\"#0d0887\"],[0.1111111111111111,\"#46039f\"],[0.2222222222222222,\"#7201a8\"],[0.3333333333333333,\"#9c179e\"],[0.4444444444444444,\"#bd3786\"],[0.5555555555555556,\"#d8576b\"],[0.6666666666666666,\"#ed7953\"],[0.7777777777777778,\"#fb9f3a\"],[0.8888888888888888,\"#fdca26\"],[1.0,\"#f0f921\"]]}],\"heatmapgl\":[{\"type\":\"heatmapgl\",\"colorbar\":{\"outlinewidth\":0,\"ticks\":\"\"},\"colorscale\":[[0.0,\"#0d0887\"],[0.1111111111111111,\"#46039f\"],[0.2222222222222222,\"#7201a8\"],[0.3333333333333333,\"#9c179e\"],[0.4444444444444444,\"#bd3786\"],[0.5555555555555556,\"#d8576b\"],[0.6666666666666666,\"#ed7953\"],[0.7777777777777778,\"#fb9f3a\"],[0.8888888888888888,\"#fdca26\"],[1.0,\"#f0f921\"]]}],\"contourcarpet\":[{\"type\":\"contourcarpet\",\"colorbar\":{\"outlinewidth\":0,\"ticks\":\"\"}}],\"contour\":[{\"type\":\"contour\",\"colorbar\":{\"outlinewidth\":0,\"ticks\":\"\"},\"colorscale\":[[0.0,\"#0d0887\"],[0.1111111111111111,\"#46039f\"],[0.2222222222222222,\"#7201a8\"],[0.3333333333333333,\"#9c179e\"],[0.4444444444444444,\"#bd3786\"],[0.5555555555555556,\"#d8576b\"],[0.6666666666666666,\"#ed7953\"],[0.7777777777777778,\"#fb9f3a\"],[0.8888888888888888,\"#fdca26\"],[1.0,\"#f0f921\"]]}],\"surface\":[{\"type\":\"surface\",\"colorbar\":{\"outlinewidth\":0,\"ticks\":\"\"},\"colorscale\":[[0.0,\"#0d0887\"],[0.1111111111111111,\"#46039f\"],[0.2222222222222222,\"#7201a8\"],[0.3333333333333333,\"#9c179e\"],[0.4444444444444444,\"#bd3786\"],[0.5555555555555556,\"#d8576b\"],[0.6666666666666666,\"#ed7953\"],[0.7777777777777778,\"#fb9f3a\"],[0.8888888888888888,\"#fdca26\"],[1.0,\"#f0f921\"]]}],\"mesh3d\":[{\"type\":\"mesh3d\",\"colorbar\":{\"outlinewidth\":0,\"ticks\":\"\"}}],\"scatter\":[{\"fillpattern\":{\"fillmode\":\"overlay\",\"size\":10,\"solidity\":0.2},\"type\":\"scatter\"}],\"parcoords\":[{\"type\":\"parcoords\",\"line\":{\"colorbar\":{\"outlinewidth\":0,\"ticks\":\"\"}}}],\"scatterpolargl\":[{\"type\":\"scatterpolargl\",\"marker\":{\"colorbar\":{\"outlinewidth\":0,\"ticks\":\"\"}}}],\"bar\":[{\"error_x\":{\"color\":\"#2a3f5f\"},\"error_y\":{\"color\":\"#2a3f5f\"},\"marker\":{\"line\":{\"color\":\"#E5ECF6\",\"width\":0.5},\"pattern\":{\"fillmode\":\"overlay\",\"size\":10,\"solidity\":0.2}},\"type\":\"bar\"}],\"scattergeo\":[{\"type\":\"scattergeo\",\"marker\":{\"colorbar\":{\"outlinewidth\":0,\"ticks\":\"\"}}}],\"scatterpolar\":[{\"type\":\"scatterpolar\",\"marker\":{\"colorbar\":{\"outlinewidth\":0,\"ticks\":\"\"}}}],\"histogram\":[{\"marker\":{\"pattern\":{\"fillmode\":\"overlay\",\"size\":10,\"solidity\":0.2}},\"type\":\"histogram\"}],\"scattergl\":[{\"type\":\"scattergl\",\"marker\":{\"colorbar\":{\"outlinewidth\":0,\"ticks\":\"\"}}}],\"scatter3d\":[{\"type\":\"scatter3d\",\"line\":{\"colorbar\":{\"outlinewidth\":0,\"ticks\":\"\"}},\"marker\":{\"colorbar\":{\"outlinewidth\":0,\"ticks\":\"\"}}}],\"scattermapbox\":[{\"type\":\"scattermapbox\",\"marker\":{\"colorbar\":{\"outlinewidth\":0,\"ticks\":\"\"}}}],\"scatterternary\":[{\"type\":\"scatterternary\",\"marker\":{\"colorbar\":{\"outlinewidth\":0,\"ticks\":\"\"}}}],\"scattercarpet\":[{\"type\":\"scattercarpet\",\"marker\":{\"colorbar\":{\"outlinewidth\":0,\"ticks\":\"\"}}}],\"carpet\":[{\"aaxis\":{\"endlinecolor\":\"#2a3f5f\",\"gridcolor\":\"white\",\"linecolor\":\"white\",\"minorgridcolor\":\"white\",\"startlinecolor\":\"#2a3f5f\"},\"baxis\":{\"endlinecolor\":\"#2a3f5f\",\"gridcolor\":\"white\",\"linecolor\":\"white\",\"minorgridcolor\":\"white\",\"startlinecolor\":\"#2a3f5f\"},\"type\":\"carpet\"}],\"table\":[{\"cells\":{\"fill\":{\"color\":\"#EBF0F8\"},\"line\":{\"color\":\"white\"}},\"header\":{\"fill\":{\"color\":\"#C8D4E3\"},\"line\":{\"color\":\"white\"}},\"type\":\"table\"}],\"barpolar\":[{\"marker\":{\"line\":{\"color\":\"#E5ECF6\",\"width\":0.5},\"pattern\":{\"fillmode\":\"overlay\",\"size\":10,\"solidity\":0.2}},\"type\":\"barpolar\"}],\"pie\":[{\"automargin\":true,\"type\":\"pie\"}]},\"layout\":{\"autotypenumbers\":\"strict\",\"colorway\":[\"#636efa\",\"#EF553B\",\"#00cc96\",\"#ab63fa\",\"#FFA15A\",\"#19d3f3\",\"#FF6692\",\"#B6E880\",\"#FF97FF\",\"#FECB52\"],\"font\":{\"color\":\"#2a3f5f\"},\"hovermode\":\"closest\",\"hoverlabel\":{\"align\":\"left\"},\"paper_bgcolor\":\"white\",\"plot_bgcolor\":\"#E5ECF6\",\"polar\":{\"bgcolor\":\"#E5ECF6\",\"angularaxis\":{\"gridcolor\":\"white\",\"linecolor\":\"white\",\"ticks\":\"\"},\"radialaxis\":{\"gridcolor\":\"white\",\"linecolor\":\"white\",\"ticks\":\"\"}},\"ternary\":{\"bgcolor\":\"#E5ECF6\",\"aaxis\":{\"gridcolor\":\"white\",\"linecolor\":\"white\",\"ticks\":\"\"},\"baxis\":{\"gridcolor\":\"white\",\"linecolor\":\"white\",\"ticks\":\"\"},\"caxis\":{\"gridcolor\":\"white\",\"linecolor\":\"white\",\"ticks\":\"\"}},\"coloraxis\":{\"colorbar\":{\"outlinewidth\":0,\"ticks\":\"\"}},\"colorscale\":{\"sequential\":[[0.0,\"#0d0887\"],[0.1111111111111111,\"#46039f\"],[0.2222222222222222,\"#7201a8\"],[0.3333333333333333,\"#9c179e\"],[0.4444444444444444,\"#bd3786\"],[0.5555555555555556,\"#d8576b\"],[0.6666666666666666,\"#ed7953\"],[0.7777777777777778,\"#fb9f3a\"],[0.8888888888888888,\"#fdca26\"],[1.0,\"#f0f921\"]],\"sequentialminus\":[[0.0,\"#0d0887\"],[0.1111111111111111,\"#46039f\"],[0.2222222222222222,\"#7201a8\"],[0.3333333333333333,\"#9c179e\"],[0.4444444444444444,\"#bd3786\"],[0.5555555555555556,\"#d8576b\"],[0.6666666666666666,\"#ed7953\"],[0.7777777777777778,\"#fb9f3a\"],[0.8888888888888888,\"#fdca26\"],[1.0,\"#f0f921\"]],\"diverging\":[[0,\"#8e0152\"],[0.1,\"#c51b7d\"],[0.2,\"#de77ae\"],[0.3,\"#f1b6da\"],[0.4,\"#fde0ef\"],[0.5,\"#f7f7f7\"],[0.6,\"#e6f5d0\"],[0.7,\"#b8e186\"],[0.8,\"#7fbc41\"],[0.9,\"#4d9221\"],[1,\"#276419\"]]},\"xaxis\":{\"gridcolor\":\"white\",\"linecolor\":\"white\",\"ticks\":\"\",\"title\":{\"standoff\":15},\"zerolinecolor\":\"white\",\"automargin\":true,\"zerolinewidth\":2},\"yaxis\":{\"gridcolor\":\"white\",\"linecolor\":\"white\",\"ticks\":\"\",\"title\":{\"standoff\":15},\"zerolinecolor\":\"white\",\"automargin\":true,\"zerolinewidth\":2},\"scene\":{\"xaxis\":{\"backgroundcolor\":\"#E5ECF6\",\"gridcolor\":\"white\",\"linecolor\":\"white\",\"showbackground\":true,\"ticks\":\"\",\"zerolinecolor\":\"white\",\"gridwidth\":2},\"yaxis\":{\"backgroundcolor\":\"#E5ECF6\",\"gridcolor\":\"white\",\"linecolor\":\"white\",\"showbackground\":true,\"ticks\":\"\",\"zerolinecolor\":\"white\",\"gridwidth\":2},\"zaxis\":{\"backgroundcolor\":\"#E5ECF6\",\"gridcolor\":\"white\",\"linecolor\":\"white\",\"showbackground\":true,\"ticks\":\"\",\"zerolinecolor\":\"white\",\"gridwidth\":2}},\"shapedefaults\":{\"line\":{\"color\":\"#2a3f5f\"}},\"annotationdefaults\":{\"arrowcolor\":\"#2a3f5f\",\"arrowhead\":0,\"arrowwidth\":1},\"geo\":{\"bgcolor\":\"white\",\"landcolor\":\"#E5ECF6\",\"subunitcolor\":\"white\",\"showland\":true,\"showlakes\":true,\"lakecolor\":\"white\"},\"title\":{\"x\":0.05},\"mapbox\":{\"style\":\"light\"}}},\"xaxis\":{\"anchor\":\"y\",\"domain\":[0.0,1.0],\"title\":{\"text\":\"Edad del Estudiante\"}},\"yaxis\":{\"anchor\":\"x\",\"domain\":[0.0,1.0],\"title\":{\"text\":\"Cantidad de Retrasos\"}},\"legend\":{\"tracegroupgap\":0},\"title\":{\"text\":\"Diagrama de Dispersi\\u00f3n: Edad vs Retrasos\"},\"height\":600},                        {\"responsive\": true}                    ).then(function(){\n",
       "                            \n",
       "var gd = document.getElementById('973539c6-372b-46a0-a1cc-9ac3e635840f');\n",
       "var x = new MutationObserver(function (mutations, observer) {{\n",
       "        var display = window.getComputedStyle(gd).display;\n",
       "        if (!display || display === 'none') {{\n",
       "            console.log([gd, 'removed!']);\n",
       "            Plotly.purge(gd);\n",
       "            observer.disconnect();\n",
       "        }}\n",
       "}});\n",
       "\n",
       "// Listen for the removal of the full notebook cells\n",
       "var notebookContainer = gd.closest('#notebook-container');\n",
       "if (notebookContainer) {{\n",
       "    x.observe(notebookContainer, {childList: true});\n",
       "}}\n",
       "\n",
       "// Listen for the clearing of the current output cell\n",
       "var outputEl = gd.closest('.output');\n",
       "if (outputEl) {{\n",
       "    x.observe(outputEl, {childList: true});\n",
       "}}\n",
       "\n",
       "                        })                };                });            </script>        </div>"
      ]
     },
     "metadata": {},
     "output_type": "display_data"
    }
   ],
   "source": [
    "# Your code here\n",
    "\n",
    "# Crear gráfico de dispersión\n",
    "fig = px.scatter(student_data, x='Edad', y='Retrasos', \n",
    "                 title='Diagrama de Dispersión: Edad vs Retrasos',\n",
    "                 labels={'Edad': 'Edad del Estudiante', 'Retrasos': 'Cantidad de Retrasos'},\n",
    "                 hover_data=['StudentID'],\n",
    "                height=600)\n",
    "\n",
    "fig.show()"
   ]
  },
  {
   "cell_type": "markdown",
   "metadata": {},
   "source": [
    "¿Ves alguna tendencia? ¿Puedes hacer alguna hipótesis sobre la relación entre la edad y el número de retrasos?"
   ]
  },
  {
   "cell_type": "markdown",
   "metadata": {},
   "source": [
    "*tu explicación aquí*"
   ]
  },
  {
   "cell_type": "markdown",
   "metadata": {},
   "source": [
    "--- \n",
    "\n",
    "### Análisis Visual\n",
    "\n",
    "Observando el diagrama de dispersión:\n",
    "\n",
    "- **Tendencia General**: Parece haber una tendencia negativa, donde a mayor edad del estudiante, menor es la cantidad de retrasos.\n",
    "- **Patrones de Datos**: Los estudiantes más jóvenes tienden a tener más retrasos, mientras que los estudiantes mayores tienden a tener menos retrasos.\n",
    "\n",
    "### Hipótesis\n",
    "\n",
    "Basado en la observación del gráfico, podemos formular la siguiente hipótesis:\n",
    "\n",
    "- **Hipótesis**: Existe una relación inversa entre la edad de los estudiantes y la cantidad de retrasos, es decir, a medida que aumenta la edad de los estudiantes, la cantidad de retrasos disminuye.\n",
    "\n",
    "---\n"
   ]
  },
  {
   "cell_type": "markdown",
   "metadata": {},
   "source": [
    "Calcula la covarianza y la correlación de las variables en tu gráfico. ¿Cuál es la diferencia entre estas dos medidas? Compara sus valores. ¿Qué te indican en este caso? Agrega tus respuestas como comentarios después de tu código."
   ]
  },
  {
   "cell_type": "code",
   "execution_count": 6,
   "metadata": {},
   "outputs": [
    {
     "name": "stdout",
     "output_type": "stream",
     "text": [
      "Covarianza: -45.56666666666666\n",
      "Correlación: -0.9391626886887122\n"
     ]
    }
   ],
   "source": [
    "# your code here\n",
    "\n",
    "# Calcular la covarianza\n",
    "covarianza = student_data['Edad'].cov(student_data['Retrasos'])\n",
    "print(f\"Covarianza: {covarianza}\")\n",
    "\n",
    "# Calcular la correlación\n",
    "correlacion = student_data['Edad'].corr(student_data['Retrasos'])\n",
    "print(f\"Correlación: {correlacion}\")\n"
   ]
  },
  {
   "cell_type": "markdown",
   "metadata": {},
   "source": [
    "--- \n",
    "\n",
    "### Interpretación de Resultados\n",
    "\n",
    "**Covarianza**: -45.56666666666666\n",
    "\n",
    "La covarianza mide cómo dos variables cambian juntas. Un valor positivo indica que las variables tienden a aumentar juntas, mientras que un valor negativo indica que una variable tiende a aumentar cuando la otra disminuye. En este caso, la covarianza es negativa, lo que sugiere que a medida que la edad aumenta, la cantidad de retrasos tiende a disminuir.\n",
    "\n",
    "**Correlación**: -0.9391626886887122\n",
    "\n",
    "La correlación mide la fuerza y la dirección de una relación lineal entre dos variables. Sus valores varían entre -1 y 1. Un valor de 1 indica una relación positiva perfecta, -1 una relación negativa perfecta, y 0 indica que no hay relación lineal. En este caso, la correlación también es negativa y su valor de -0.939 indica una fuerte relación inversa entre la edad y la cantidad de retrasos.\n",
    "\n",
    "### Diferencia entre Covarianza y Correlación\n",
    "\n",
    "- **Covarianza**: La covarianza indica la dirección de la relación entre dos variables (positiva o negativa) y la magnitud de cómo varían juntas. Sin embargo, no está normalizada, lo que significa que su valor depende de las unidades de las variables.\n",
    "\n",
    "- **Correlación**: La correlación, por otro lado, está normalizada y proporciona una medida de la fuerza y la dirección de la relación lineal entre dos variables. Su valor es independiente de las unidades de las variables, lo que permite comparaciones más fáciles entre diferentes conjuntos de datos.\n",
    "\n",
    "### Conclusión\n",
    "\n",
    "En este caso, tanto la covarianza negativa como la fuerte correlación negativa indican que existe una relación inversa entre la edad de los estudiantes y la cantidad de retrasos. Es decir, a medida que aumenta la edad de los estudiantes, la cantidad de retrasos disminuye significativamente.\n",
    "\n",
    "---"
   ]
  },
  {
   "cell_type": "markdown",
   "metadata": {},
   "source": [
    "Construye un modelo de regresión para estos datos. ¿Cuál será tu variable de resultado? ¿Qué tipo de regresión estás utilizando? Agrega tus respuestas como comentarios después de tu código."
   ]
  },
  {
   "cell_type": "code",
   "execution_count": 7,
   "metadata": {},
   "outputs": [
    {
     "name": "stdout",
     "output_type": "stream",
     "text": [
      "Regresión Ridge - Coeficientes: [-0.2662069], Intercepto: 13.453793103448277, MSE: 1.0547633769322213\n",
      "Regresión Lasso - Coeficientes: [-0.25552486], Intercepto: 13.154696132596685, MSE: 0.5917678413357336\n"
     ]
    }
   ],
   "source": [
    "# your explanation here\n",
    "\n",
    "from sklearn.linear_model import Ridge, Lasso\n",
    "from sklearn.model_selection import train_test_split\n",
    "from sklearn.metrics import mean_squared_error\n",
    "\n",
    "# Definir variables predictoras (X) y variable de resultado (y)\n",
    "X = student_data[['Edad']]\n",
    "y = student_data['Retrasos']\n",
    "\n",
    "# Dividir los datos en entrenamiento y prueba\n",
    "X_train, X_test, y_train, y_test = train_test_split(X, y, test_size=0.2, random_state=42)\n",
    "\n",
    "# Modelo de Regresión Ridge\n",
    "ridge_model = Ridge(alpha=1.0)  # alpha es el parámetro de regularización\n",
    "ridge_model.fit(X_train, y_train)\n",
    "\n",
    "# Modelo de Regresión Lasso\n",
    "lasso_model = Lasso(alpha=1.0)  # alpha es el parámetro de regularización\n",
    "lasso_model.fit(X_train, y_train)\n",
    "\n",
    "# Evaluar modelos\n",
    "ridge_pred = ridge_model.predict(X_test)\n",
    "lasso_pred = lasso_model.predict(X_test)\n",
    "\n",
    "# Calcular el error cuadrático medio (MSE)\n",
    "ridge_mse = mean_squared_error(y_test, ridge_pred)\n",
    "lasso_mse = mean_squared_error(y_test, lasso_pred)\n",
    "\n",
    "# Mostrar resultados\n",
    "print(f\"Regresión Ridge - Coeficientes: {ridge_model.coef_}, Intercepto: {ridge_model.intercept_}, MSE: {ridge_mse}\")\n",
    "print(f\"Regresión Lasso - Coeficientes: {lasso_model.coef_}, Intercepto: {lasso_model.intercept_}, MSE: {lasso_mse}\")"
   ]
  },
  {
   "cell_type": "markdown",
   "metadata": {},
   "source": [
    "----\n",
    "\n",
    "### Interpretación de Resultados\n",
    "\n",
    "**Regresión Ridge**\n",
    "\n",
    "- **Coeficientes**: El coeficiente para la variable `Edad` es aproximadamente -0.266. Esto significa que, en el modelo de regresión Ridge, por cada unidad de aumento en la edad de los estudiantes, se espera que la cantidad de retrasos disminuya en promedio 0.266 unidades.\n",
    "  \n",
    "- **Intercepto**: El intercepto es aproximadamente 13.454. Esto representa el valor esperado de la variable `Retrasos` cuando la variable `Edad` es cero.\n",
    "  \n",
    "- **MSE**: El error cuadrático medio (MSE) es aproximadamente 1.055. Indica en promedio cuán cerca están las predicciones del modelo de los valores reales de `Retrasos` en los datos de prueba.\n",
    "\n",
    "**Regresión Lasso**\n",
    "\n",
    "- **Coeficientes**: El coeficiente para la variable `Edad` es aproximadamente -0.256. Esto significa que, en el modelo de regresión Lasso, por cada unidad de aumento en la edad de los estudiantes, se espera que la cantidad de retrasos disminuya en promedio 0.256 unidades.\n",
    "  \n",
    "- **Intercepto**: El intercepto es aproximadamente 13.155. Esto representa el valor esperado de la variable `Retrasos` cuando la variable `Edad` es cero.\n",
    "  \n",
    "- **MSE**: El error cuadrático medio (MSE) es aproximadamente 0.592. Indica en promedio cuán cerca están las predicciones del modelo de los valores reales de `Retrasos` en los datos de prueba.\n",
    "\n",
    "### Comparación y Conclusiones\n",
    "\n",
    "Ambos modelos (Ridge y Lasso) muestran coeficientes similares para la variable `Edad`, lo que confirma que la edad está significativamente asociada con la cantidad de retrasos. Sin embargo, el modelo Lasso tiene un MSE menor, lo que sugiere que puede estar haciendo predicciones ligeramente más precisas en este conjunto de datos. La elección entre Ridge y Lasso podría depender de la importancia de la selección de características y la penalización de los coeficientes en la aplicación específica.\n",
    "\n",
    "\n",
    "---"
   ]
  },
  {
   "cell_type": "markdown",
   "metadata": {},
   "source": [
    "Grafica tu modelo de regresión en tu diagrama de dispersión."
   ]
  },
  {
   "cell_type": "code",
   "execution_count": 30,
   "metadata": {},
   "outputs": [
    {
     "name": "stderr",
     "output_type": "stream",
     "text": [
      "/home/ubuntu/.local/lib/python3.10/site-packages/sklearn/base.py:493: UserWarning:\n",
      "\n",
      "X does not have valid feature names, but Ridge was fitted with feature names\n",
      "\n",
      "/home/ubuntu/.local/lib/python3.10/site-packages/sklearn/base.py:493: UserWarning:\n",
      "\n",
      "X does not have valid feature names, but Lasso was fitted with feature names\n",
      "\n"
     ]
    },
    {
     "data": {
      "application/vnd.plotly.v1+json": {
       "config": {
        "plotlyServerURL": "https://plot.ly"
       },
       "data": [
        {
         "customdata": [
          [
           1
          ],
          [
           2
          ],
          [
           3
          ],
          [
           4
          ],
          [
           5
          ],
          [
           6
          ],
          [
           7
          ],
          [
           8
          ],
          [
           9
          ],
          [
           10
          ]
         ],
         "hovertemplate": "Edad del Estudiante=%{x}<br>Cantidad de Retrasos=%{y}<br>StudentID=%{customdata[0]}<extra></extra>",
         "legendgroup": "",
         "marker": {
          "color": "#636efa",
          "symbol": "circle"
         },
         "mode": "markers",
         "name": "",
         "orientation": "v",
         "showlegend": false,
         "type": "scatter",
         "x": [
          17,
          51,
          27,
          21,
          36,
          48,
          19,
          26,
          54,
          30
         ],
         "xaxis": "x",
         "y": [
          10,
          1,
          5,
          9,
          4,
          2,
          9,
          6,
          0,
          3
         ],
         "yaxis": "y"
        },
        {
         "line": {
          "color": "red"
         },
         "mode": "lines",
         "name": "Regresión Ridge",
         "type": "scatter",
         "x": [
          17,
          17.373737373737374,
          17.747474747474747,
          18.12121212121212,
          18.494949494949495,
          18.86868686868687,
          19.242424242424242,
          19.616161616161616,
          19.98989898989899,
          20.363636363636363,
          20.737373737373737,
          21.11111111111111,
          21.484848484848484,
          21.858585858585858,
          22.232323232323232,
          22.606060606060606,
          22.97979797979798,
          23.353535353535353,
          23.727272727272727,
          24.1010101010101,
          24.474747474747474,
          24.848484848484848,
          25.22222222222222,
          25.5959595959596,
          25.96969696969697,
          26.343434343434346,
          26.717171717171716,
          27.090909090909093,
          27.464646464646464,
          27.83838383838384,
          28.21212121212121,
          28.58585858585859,
          28.95959595959596,
          29.333333333333336,
          29.707070707070706,
          30.080808080808083,
          30.454545454545453,
          30.82828282828283,
          31.2020202020202,
          31.575757575757578,
          31.949494949494948,
          32.323232323232325,
          32.696969696969695,
          33.07070707070707,
          33.44444444444444,
          33.81818181818182,
          34.1919191919192,
          34.56565656565657,
          34.93939393939394,
          35.313131313131315,
          35.68686868686869,
          36.06060606060606,
          36.43434343434343,
          36.80808080808081,
          37.18181818181819,
          37.55555555555556,
          37.92929292929293,
          38.303030303030305,
          38.67676767676768,
          39.05050505050505,
          39.42424242424242,
          39.7979797979798,
          40.17171717171718,
          40.54545454545455,
          40.91919191919192,
          41.292929292929294,
          41.66666666666667,
          42.04040404040404,
          42.41414141414141,
          42.78787878787879,
          43.161616161616166,
          43.535353535353536,
          43.90909090909091,
          44.282828282828284,
          44.65656565656566,
          45.03030303030303,
          45.4040404040404,
          45.77777777777778,
          46.151515151515156,
          46.525252525252526,
          46.898989898989896,
          47.27272727272727,
          47.64646464646465,
          48.02020202020202,
          48.39393939393939,
          48.76767676767677,
          49.141414141414145,
          49.515151515151516,
          49.88888888888889,
          50.26262626262626,
          50.63636363636364,
          51.01010101010101,
          51.38383838383839,
          51.75757575757576,
          52.131313131313135,
          52.505050505050505,
          52.87878787878788,
          53.25252525252525,
          53.62626262626263,
          54
         ],
         "y": [
          8.928275862068967,
          8.828784395680948,
          8.72929292929293,
          8.629801462904911,
          8.530309996516895,
          8.430818530128876,
          8.331327063740858,
          8.23183559735284,
          8.132344130964821,
          8.032852664576804,
          7.933361198188785,
          7.8338697318007675,
          7.734378265412749,
          7.634886799024731,
          7.535395332636713,
          7.435903866248695,
          7.336412399860677,
          7.236920933472659,
          7.13742946708464,
          7.037938000696623,
          6.938446534308604,
          6.838955067920586,
          6.739463601532568,
          6.639972135144549,
          6.540480668756532,
          6.440989202368513,
          6.341497735980496,
          6.242006269592476,
          6.14251480320446,
          6.04302333681644,
          5.943531870428424,
          5.844040404040404,
          5.744548937652387,
          5.645057471264368,
          5.545566004876351,
          5.4460745384883325,
          5.346583072100314,
          5.247091605712296,
          5.147600139324279,
          5.048108672936259,
          4.948617206548242,
          4.849125740160224,
          4.749634273772205,
          4.650142807384187,
          4.55065134099617,
          4.45115987460815,
          4.351668408220132,
          4.252176941832115,
          4.152685475444098,
          4.053194009056078,
          3.9537025426680596,
          3.854211076280043,
          3.7547196098920246,
          3.655228143504006,
          3.5557366771159877,
          3.4562452107279693,
          3.3567537443399527,
          3.2572622779519342,
          3.157770811563914,
          3.0582793451758974,
          2.9587878787878807,
          2.8592964123998605,
          2.759804946011842,
          2.6603134796238255,
          2.560822013235807,
          2.4613305468477886,
          2.36183908045977,
          2.2623476140717518,
          2.162856147683735,
          2.0633646812957167,
          1.9638732149076965,
          1.8643817485196799,
          1.7648902821316632,
          1.6653988157436448,
          1.5659073493556246,
          1.466415882967608,
          1.3669244165795913,
          1.267432950191571,
          1.1679414838035527,
          1.068450017415536,
          0.9689585510275176,
          0.8694670846394992,
          0.7699756182514808,
          0.6704841518634623,
          0.5709926854754457,
          0.47150121908742726,
          0.37200975269940706,
          0.2725182863113904,
          0.173026819923372,
          0.07353535353535356,
          -0.02595611285266486,
          -0.1254475792406815,
          -0.2249390456287017,
          -0.32443051201671835,
          -0.4239219784047368,
          -0.5234134447927534,
          -0.6229049111807736,
          -0.7223963775687903,
          -0.8218878439568087,
          -0.9213793103448271
         ]
        },
        {
         "line": {
          "color": "green"
         },
         "mode": "lines",
         "name": "Regresión Lasso",
         "type": "scatter",
         "x": [
          17,
          17.373737373737374,
          17.747474747474747,
          18.12121212121212,
          18.494949494949495,
          18.86868686868687,
          19.242424242424242,
          19.616161616161616,
          19.98989898989899,
          20.363636363636363,
          20.737373737373737,
          21.11111111111111,
          21.484848484848484,
          21.858585858585858,
          22.232323232323232,
          22.606060606060606,
          22.97979797979798,
          23.353535353535353,
          23.727272727272727,
          24.1010101010101,
          24.474747474747474,
          24.848484848484848,
          25.22222222222222,
          25.5959595959596,
          25.96969696969697,
          26.343434343434346,
          26.717171717171716,
          27.090909090909093,
          27.464646464646464,
          27.83838383838384,
          28.21212121212121,
          28.58585858585859,
          28.95959595959596,
          29.333333333333336,
          29.707070707070706,
          30.080808080808083,
          30.454545454545453,
          30.82828282828283,
          31.2020202020202,
          31.575757575757578,
          31.949494949494948,
          32.323232323232325,
          32.696969696969695,
          33.07070707070707,
          33.44444444444444,
          33.81818181818182,
          34.1919191919192,
          34.56565656565657,
          34.93939393939394,
          35.313131313131315,
          35.68686868686869,
          36.06060606060606,
          36.43434343434343,
          36.80808080808081,
          37.18181818181819,
          37.55555555555556,
          37.92929292929293,
          38.303030303030305,
          38.67676767676768,
          39.05050505050505,
          39.42424242424242,
          39.7979797979798,
          40.17171717171718,
          40.54545454545455,
          40.91919191919192,
          41.292929292929294,
          41.66666666666667,
          42.04040404040404,
          42.41414141414141,
          42.78787878787879,
          43.161616161616166,
          43.535353535353536,
          43.90909090909091,
          44.282828282828284,
          44.65656565656566,
          45.03030303030303,
          45.4040404040404,
          45.77777777777778,
          46.151515151515156,
          46.525252525252526,
          46.898989898989896,
          47.27272727272727,
          47.64646464646465,
          48.02020202020202,
          48.39393939393939,
          48.76767676767677,
          49.141414141414145,
          49.515151515151516,
          49.88888888888889,
          50.26262626262626,
          50.63636363636364,
          51.01010101010101,
          51.38383838383839,
          51.75757575757576,
          52.131313131313135,
          52.505050505050505,
          52.87878787878788,
          53.25252525252525,
          53.62626262626263,
          54
         ],
         "y": [
          8.810773480662984,
          8.715274289859925,
          8.619775099056866,
          8.52427590825381,
          8.428776717450752,
          8.333277526647692,
          8.237778335844634,
          8.142279145041577,
          8.046779954238518,
          7.95128076343546,
          7.855781572632401,
          7.760282381829343,
          7.664783191026285,
          7.569284000223227,
          7.473784809420169,
          7.37828561861711,
          7.282786427814052,
          7.187287237010994,
          7.091788046207936,
          6.996288855404878,
          6.90078966460182,
          6.805290473798761,
          6.709791282995703,
          6.6142920921926445,
          6.518792901389587,
          6.423293710586528,
          6.32779451978347,
          6.2322953289804115,
          6.136796138177354,
          6.0412969473742955,
          5.945797756571238,
          5.8502985657681785,
          5.754799374965121,
          5.6593001841620625,
          5.563800993359005,
          5.4683018025559464,
          5.372802611752888,
          5.2773034209498295,
          5.181804230146772,
          5.0863050393437135,
          4.990805848540656,
          4.895306657737597,
          4.79980746693454,
          4.704308276131481,
          4.6088090853284225,
          4.513309894525364,
          4.417810703722305,
          4.3223115129192475,
          4.22681232211619,
          4.1313131313131315,
          4.035813940510073,
          3.9403147497070155,
          3.8448155589039583,
          3.7493163681008994,
          3.6538171772978387,
          3.5583179864947816,
          3.4628187956917245,
          3.3673196048886656,
          3.2718204140856066,
          3.1763212232825495,
          3.0808220324794924,
          2.9853228416764335,
          2.8898236508733746,
          2.7943244600703174,
          2.6988252692672603,
          2.6033260784641996,
          2.5078268876611407,
          2.4123276968580836,
          2.3168285060550264,
          2.2213293152519675,
          2.1258301244489086,
          2.0303309336458515,
          1.9348317428427944,
          1.8393325520397354,
          1.7438333612366765,
          1.6483341704336176,
          1.5528349796305605,
          1.4573357888275016,
          1.3618365980244427,
          1.2663374072213855,
          1.1708382164183284,
          1.0753390256152695,
          0.9798398348122106,
          0.8843406440091535,
          0.7888414532060963,
          0.6933422624030356,
          0.5978430715999767,
          0.5023438807969196,
          0.4068446899938607,
          0.31134549919080357,
          0.21584630838774466,
          0.12034711758468752,
          0.024847926781628615,
          -0.07065126402142852,
          -0.16615045482448743,
          -0.26164964562754456,
          -0.35714883643060524,
          -0.4526480272336624,
          -0.5481472180367213,
          -0.6436464088397784
         ]
        }
       ],
       "layout": {
        "annotations": [
         {
          "font": {
           "color": "red"
          },
          "showarrow": false,
          "text": "Regresión Ridge: Retrasos = 13.45 + (-0.27 * Edad)",
          "x": 1.1,
          "xref": "paper",
          "y": 1.1,
          "yref": "paper"
         },
         {
          "font": {
           "color": "green"
          },
          "showarrow": false,
          "text": "Regresión Lasso: Retrasos = 13.15 + (-0.26 * Edad)",
          "x": 1.1,
          "xref": "paper",
          "y": 1.05,
          "yref": "paper"
         }
        ],
        "autosize": true,
        "legend": {
         "tracegroupgap": 0
        },
        "template": {
         "data": {
          "bar": [
           {
            "error_x": {
             "color": "#2a3f5f"
            },
            "error_y": {
             "color": "#2a3f5f"
            },
            "marker": {
             "line": {
              "color": "#E5ECF6",
              "width": 0.5
             },
             "pattern": {
              "fillmode": "overlay",
              "size": 10,
              "solidity": 0.2
             }
            },
            "type": "bar"
           }
          ],
          "barpolar": [
           {
            "marker": {
             "line": {
              "color": "#E5ECF6",
              "width": 0.5
             },
             "pattern": {
              "fillmode": "overlay",
              "size": 10,
              "solidity": 0.2
             }
            },
            "type": "barpolar"
           }
          ],
          "carpet": [
           {
            "aaxis": {
             "endlinecolor": "#2a3f5f",
             "gridcolor": "white",
             "linecolor": "white",
             "minorgridcolor": "white",
             "startlinecolor": "#2a3f5f"
            },
            "baxis": {
             "endlinecolor": "#2a3f5f",
             "gridcolor": "white",
             "linecolor": "white",
             "minorgridcolor": "white",
             "startlinecolor": "#2a3f5f"
            },
            "type": "carpet"
           }
          ],
          "choropleth": [
           {
            "colorbar": {
             "outlinewidth": 0,
             "ticks": ""
            },
            "type": "choropleth"
           }
          ],
          "contour": [
           {
            "colorbar": {
             "outlinewidth": 0,
             "ticks": ""
            },
            "colorscale": [
             [
              0,
              "#0d0887"
             ],
             [
              0.1111111111111111,
              "#46039f"
             ],
             [
              0.2222222222222222,
              "#7201a8"
             ],
             [
              0.3333333333333333,
              "#9c179e"
             ],
             [
              0.4444444444444444,
              "#bd3786"
             ],
             [
              0.5555555555555556,
              "#d8576b"
             ],
             [
              0.6666666666666666,
              "#ed7953"
             ],
             [
              0.7777777777777778,
              "#fb9f3a"
             ],
             [
              0.8888888888888888,
              "#fdca26"
             ],
             [
              1,
              "#f0f921"
             ]
            ],
            "type": "contour"
           }
          ],
          "contourcarpet": [
           {
            "colorbar": {
             "outlinewidth": 0,
             "ticks": ""
            },
            "type": "contourcarpet"
           }
          ],
          "heatmap": [
           {
            "colorbar": {
             "outlinewidth": 0,
             "ticks": ""
            },
            "colorscale": [
             [
              0,
              "#0d0887"
             ],
             [
              0.1111111111111111,
              "#46039f"
             ],
             [
              0.2222222222222222,
              "#7201a8"
             ],
             [
              0.3333333333333333,
              "#9c179e"
             ],
             [
              0.4444444444444444,
              "#bd3786"
             ],
             [
              0.5555555555555556,
              "#d8576b"
             ],
             [
              0.6666666666666666,
              "#ed7953"
             ],
             [
              0.7777777777777778,
              "#fb9f3a"
             ],
             [
              0.8888888888888888,
              "#fdca26"
             ],
             [
              1,
              "#f0f921"
             ]
            ],
            "type": "heatmap"
           }
          ],
          "heatmapgl": [
           {
            "colorbar": {
             "outlinewidth": 0,
             "ticks": ""
            },
            "colorscale": [
             [
              0,
              "#0d0887"
             ],
             [
              0.1111111111111111,
              "#46039f"
             ],
             [
              0.2222222222222222,
              "#7201a8"
             ],
             [
              0.3333333333333333,
              "#9c179e"
             ],
             [
              0.4444444444444444,
              "#bd3786"
             ],
             [
              0.5555555555555556,
              "#d8576b"
             ],
             [
              0.6666666666666666,
              "#ed7953"
             ],
             [
              0.7777777777777778,
              "#fb9f3a"
             ],
             [
              0.8888888888888888,
              "#fdca26"
             ],
             [
              1,
              "#f0f921"
             ]
            ],
            "type": "heatmapgl"
           }
          ],
          "histogram": [
           {
            "marker": {
             "pattern": {
              "fillmode": "overlay",
              "size": 10,
              "solidity": 0.2
             }
            },
            "type": "histogram"
           }
          ],
          "histogram2d": [
           {
            "colorbar": {
             "outlinewidth": 0,
             "ticks": ""
            },
            "colorscale": [
             [
              0,
              "#0d0887"
             ],
             [
              0.1111111111111111,
              "#46039f"
             ],
             [
              0.2222222222222222,
              "#7201a8"
             ],
             [
              0.3333333333333333,
              "#9c179e"
             ],
             [
              0.4444444444444444,
              "#bd3786"
             ],
             [
              0.5555555555555556,
              "#d8576b"
             ],
             [
              0.6666666666666666,
              "#ed7953"
             ],
             [
              0.7777777777777778,
              "#fb9f3a"
             ],
             [
              0.8888888888888888,
              "#fdca26"
             ],
             [
              1,
              "#f0f921"
             ]
            ],
            "type": "histogram2d"
           }
          ],
          "histogram2dcontour": [
           {
            "colorbar": {
             "outlinewidth": 0,
             "ticks": ""
            },
            "colorscale": [
             [
              0,
              "#0d0887"
             ],
             [
              0.1111111111111111,
              "#46039f"
             ],
             [
              0.2222222222222222,
              "#7201a8"
             ],
             [
              0.3333333333333333,
              "#9c179e"
             ],
             [
              0.4444444444444444,
              "#bd3786"
             ],
             [
              0.5555555555555556,
              "#d8576b"
             ],
             [
              0.6666666666666666,
              "#ed7953"
             ],
             [
              0.7777777777777778,
              "#fb9f3a"
             ],
             [
              0.8888888888888888,
              "#fdca26"
             ],
             [
              1,
              "#f0f921"
             ]
            ],
            "type": "histogram2dcontour"
           }
          ],
          "mesh3d": [
           {
            "colorbar": {
             "outlinewidth": 0,
             "ticks": ""
            },
            "type": "mesh3d"
           }
          ],
          "parcoords": [
           {
            "line": {
             "colorbar": {
              "outlinewidth": 0,
              "ticks": ""
             }
            },
            "type": "parcoords"
           }
          ],
          "pie": [
           {
            "automargin": true,
            "type": "pie"
           }
          ],
          "scatter": [
           {
            "fillpattern": {
             "fillmode": "overlay",
             "size": 10,
             "solidity": 0.2
            },
            "type": "scatter"
           }
          ],
          "scatter3d": [
           {
            "line": {
             "colorbar": {
              "outlinewidth": 0,
              "ticks": ""
             }
            },
            "marker": {
             "colorbar": {
              "outlinewidth": 0,
              "ticks": ""
             }
            },
            "type": "scatter3d"
           }
          ],
          "scattercarpet": [
           {
            "marker": {
             "colorbar": {
              "outlinewidth": 0,
              "ticks": ""
             }
            },
            "type": "scattercarpet"
           }
          ],
          "scattergeo": [
           {
            "marker": {
             "colorbar": {
              "outlinewidth": 0,
              "ticks": ""
             }
            },
            "type": "scattergeo"
           }
          ],
          "scattergl": [
           {
            "marker": {
             "colorbar": {
              "outlinewidth": 0,
              "ticks": ""
             }
            },
            "type": "scattergl"
           }
          ],
          "scattermapbox": [
           {
            "marker": {
             "colorbar": {
              "outlinewidth": 0,
              "ticks": ""
             }
            },
            "type": "scattermapbox"
           }
          ],
          "scatterpolar": [
           {
            "marker": {
             "colorbar": {
              "outlinewidth": 0,
              "ticks": ""
             }
            },
            "type": "scatterpolar"
           }
          ],
          "scatterpolargl": [
           {
            "marker": {
             "colorbar": {
              "outlinewidth": 0,
              "ticks": ""
             }
            },
            "type": "scatterpolargl"
           }
          ],
          "scatterternary": [
           {
            "marker": {
             "colorbar": {
              "outlinewidth": 0,
              "ticks": ""
             }
            },
            "type": "scatterternary"
           }
          ],
          "surface": [
           {
            "colorbar": {
             "outlinewidth": 0,
             "ticks": ""
            },
            "colorscale": [
             [
              0,
              "#0d0887"
             ],
             [
              0.1111111111111111,
              "#46039f"
             ],
             [
              0.2222222222222222,
              "#7201a8"
             ],
             [
              0.3333333333333333,
              "#9c179e"
             ],
             [
              0.4444444444444444,
              "#bd3786"
             ],
             [
              0.5555555555555556,
              "#d8576b"
             ],
             [
              0.6666666666666666,
              "#ed7953"
             ],
             [
              0.7777777777777778,
              "#fb9f3a"
             ],
             [
              0.8888888888888888,
              "#fdca26"
             ],
             [
              1,
              "#f0f921"
             ]
            ],
            "type": "surface"
           }
          ],
          "table": [
           {
            "cells": {
             "fill": {
              "color": "#EBF0F8"
             },
             "line": {
              "color": "white"
             }
            },
            "header": {
             "fill": {
              "color": "#C8D4E3"
             },
             "line": {
              "color": "white"
             }
            },
            "type": "table"
           }
          ]
         },
         "layout": {
          "annotationdefaults": {
           "arrowcolor": "#2a3f5f",
           "arrowhead": 0,
           "arrowwidth": 1
          },
          "autotypenumbers": "strict",
          "coloraxis": {
           "colorbar": {
            "outlinewidth": 0,
            "ticks": ""
           }
          },
          "colorscale": {
           "diverging": [
            [
             0,
             "#8e0152"
            ],
            [
             0.1,
             "#c51b7d"
            ],
            [
             0.2,
             "#de77ae"
            ],
            [
             0.3,
             "#f1b6da"
            ],
            [
             0.4,
             "#fde0ef"
            ],
            [
             0.5,
             "#f7f7f7"
            ],
            [
             0.6,
             "#e6f5d0"
            ],
            [
             0.7,
             "#b8e186"
            ],
            [
             0.8,
             "#7fbc41"
            ],
            [
             0.9,
             "#4d9221"
            ],
            [
             1,
             "#276419"
            ]
           ],
           "sequential": [
            [
             0,
             "#0d0887"
            ],
            [
             0.1111111111111111,
             "#46039f"
            ],
            [
             0.2222222222222222,
             "#7201a8"
            ],
            [
             0.3333333333333333,
             "#9c179e"
            ],
            [
             0.4444444444444444,
             "#bd3786"
            ],
            [
             0.5555555555555556,
             "#d8576b"
            ],
            [
             0.6666666666666666,
             "#ed7953"
            ],
            [
             0.7777777777777778,
             "#fb9f3a"
            ],
            [
             0.8888888888888888,
             "#fdca26"
            ],
            [
             1,
             "#f0f921"
            ]
           ],
           "sequentialminus": [
            [
             0,
             "#0d0887"
            ],
            [
             0.1111111111111111,
             "#46039f"
            ],
            [
             0.2222222222222222,
             "#7201a8"
            ],
            [
             0.3333333333333333,
             "#9c179e"
            ],
            [
             0.4444444444444444,
             "#bd3786"
            ],
            [
             0.5555555555555556,
             "#d8576b"
            ],
            [
             0.6666666666666666,
             "#ed7953"
            ],
            [
             0.7777777777777778,
             "#fb9f3a"
            ],
            [
             0.8888888888888888,
             "#fdca26"
            ],
            [
             1,
             "#f0f921"
            ]
           ]
          },
          "colorway": [
           "#636efa",
           "#EF553B",
           "#00cc96",
           "#ab63fa",
           "#FFA15A",
           "#19d3f3",
           "#FF6692",
           "#B6E880",
           "#FF97FF",
           "#FECB52"
          ],
          "font": {
           "color": "#2a3f5f"
          },
          "geo": {
           "bgcolor": "white",
           "lakecolor": "white",
           "landcolor": "#E5ECF6",
           "showlakes": true,
           "showland": true,
           "subunitcolor": "white"
          },
          "hoverlabel": {
           "align": "left"
          },
          "hovermode": "closest",
          "mapbox": {
           "style": "light"
          },
          "paper_bgcolor": "white",
          "plot_bgcolor": "#E5ECF6",
          "polar": {
           "angularaxis": {
            "gridcolor": "white",
            "linecolor": "white",
            "ticks": ""
           },
           "bgcolor": "#E5ECF6",
           "radialaxis": {
            "gridcolor": "white",
            "linecolor": "white",
            "ticks": ""
           }
          },
          "scene": {
           "xaxis": {
            "backgroundcolor": "#E5ECF6",
            "gridcolor": "white",
            "gridwidth": 2,
            "linecolor": "white",
            "showbackground": true,
            "ticks": "",
            "zerolinecolor": "white"
           },
           "yaxis": {
            "backgroundcolor": "#E5ECF6",
            "gridcolor": "white",
            "gridwidth": 2,
            "linecolor": "white",
            "showbackground": true,
            "ticks": "",
            "zerolinecolor": "white"
           },
           "zaxis": {
            "backgroundcolor": "#E5ECF6",
            "gridcolor": "white",
            "gridwidth": 2,
            "linecolor": "white",
            "showbackground": true,
            "ticks": "",
            "zerolinecolor": "white"
           }
          },
          "shapedefaults": {
           "line": {
            "color": "#2a3f5f"
           }
          },
          "ternary": {
           "aaxis": {
            "gridcolor": "white",
            "linecolor": "white",
            "ticks": ""
           },
           "baxis": {
            "gridcolor": "white",
            "linecolor": "white",
            "ticks": ""
           },
           "bgcolor": "#E5ECF6",
           "caxis": {
            "gridcolor": "white",
            "linecolor": "white",
            "ticks": ""
           }
          },
          "title": {
           "x": 0.05
          },
          "xaxis": {
           "automargin": true,
           "gridcolor": "white",
           "linecolor": "white",
           "ticks": "",
           "title": {
            "standoff": 15
           },
           "zerolinecolor": "white",
           "zerolinewidth": 2
          },
          "yaxis": {
           "automargin": true,
           "gridcolor": "white",
           "linecolor": "white",
           "ticks": "",
           "title": {
            "standoff": 15
           },
           "zerolinecolor": "white",
           "zerolinewidth": 2
          }
         }
        },
        "title": {
         "text": "Diagrama de Dispersión: Edad vs Retrasos"
        },
        "xaxis": {
         "anchor": "y",
         "autorange": true,
         "domain": [
          0,
          1
         ],
         "range": [
          14.657355679702048,
          56.34264432029795
         ],
         "title": {
          "text": "Edad del Estudiante"
         },
         "type": "linear"
        },
        "yaxis": {
         "anchor": "x",
         "autorange": true,
         "domain": [
          0,
          1
         ],
         "range": [
          -1.5342021974984448,
          10.722255545573907
         ],
         "title": {
          "text": "Cantidad de Retrasos"
         },
         "type": "linear"
        }
       }
      },
      "image/png": "[encoded data removed]",
      "text/html": [
       "<div>                            <div id=\"69885c10-2a4d-4d12-b72b-cd7d8715c2b9\" class=\"plotly-graph-div\" style=\"height:600px; width:100%;\"></div>            <script type=\"text/javascript\">                require([\"plotly\"], function(Plotly) {                    window.PLOTLYENV=window.PLOTLYENV || {};                                    if (document.getElementById(\"69885c10-2a4d-4d12-b72b-cd7d8715c2b9\")) {                    Plotly.newPlot(                        \"69885c10-2a4d-4d12-b72b-cd7d8715c2b9\",                        [{\"customdata\":[[1],[2],[3],[4],[5],[6],[7],[8],[9],[10]],\"hovertemplate\":\"Edad del Estudiante=%{x}\\u003cbr\\u003eCantidad de Retrasos=%{y}\\u003cbr\\u003eStudentID=%{customdata[0]}\\u003cextra\\u003e\\u003c\\u002fextra\\u003e\",\"legendgroup\":\"\",\"marker\":{\"color\":\"#636efa\",\"symbol\":\"circle\"},\"mode\":\"markers\",\"name\":\"\",\"orientation\":\"v\",\"showlegend\":false,\"x\":[17,51,27,21,36,48,19,26,54,30],\"xaxis\":\"x\",\"y\":[10,1,5,9,4,2,9,6,0,3],\"yaxis\":\"y\",\"type\":\"scatter\"},{\"line\":{\"color\":\"red\"},\"mode\":\"lines\",\"name\":\"Regresi\\u00f3n Ridge\",\"x\":[17.0,17.373737373737374,17.747474747474747,18.12121212121212,18.494949494949495,18.86868686868687,19.242424242424242,19.616161616161616,19.98989898989899,20.363636363636363,20.737373737373737,21.11111111111111,21.484848484848484,21.858585858585858,22.232323232323232,22.606060606060606,22.97979797979798,23.353535353535353,23.727272727272727,24.1010101010101,24.474747474747474,24.848484848484848,25.22222222222222,25.5959595959596,25.96969696969697,26.343434343434346,26.717171717171716,27.090909090909093,27.464646464646464,27.83838383838384,28.21212121212121,28.58585858585859,28.95959595959596,29.333333333333336,29.707070707070706,30.080808080808083,30.454545454545453,30.82828282828283,31.2020202020202,31.575757575757578,31.949494949494948,32.323232323232325,32.696969696969695,33.07070707070707,33.44444444444444,33.81818181818182,34.1919191919192,34.56565656565657,34.93939393939394,35.313131313131315,35.68686868686869,36.06060606060606,36.43434343434343,36.80808080808081,37.18181818181819,37.55555555555556,37.92929292929293,38.303030303030305,38.67676767676768,39.05050505050505,39.42424242424242,39.7979797979798,40.17171717171718,40.54545454545455,40.91919191919192,41.292929292929294,41.66666666666667,42.04040404040404,42.41414141414141,42.78787878787879,43.161616161616166,43.535353535353536,43.90909090909091,44.282828282828284,44.65656565656566,45.03030303030303,45.4040404040404,45.77777777777778,46.151515151515156,46.525252525252526,46.898989898989896,47.27272727272727,47.64646464646465,48.02020202020202,48.39393939393939,48.76767676767677,49.141414141414145,49.515151515151516,49.88888888888889,50.26262626262626,50.63636363636364,51.01010101010101,51.38383838383839,51.75757575757576,52.131313131313135,52.505050505050505,52.87878787878788,53.25252525252525,53.62626262626263,54.0],\"y\":[8.928275862068967,8.828784395680948,8.72929292929293,8.629801462904911,8.530309996516895,8.430818530128876,8.331327063740858,8.23183559735284,8.132344130964821,8.032852664576804,7.933361198188785,7.8338697318007675,7.734378265412749,7.634886799024731,7.535395332636713,7.435903866248695,7.336412399860677,7.236920933472659,7.13742946708464,7.037938000696623,6.938446534308604,6.838955067920586,6.739463601532568,6.639972135144549,6.540480668756532,6.440989202368513,6.341497735980496,6.242006269592476,6.14251480320446,6.04302333681644,5.943531870428424,5.844040404040404,5.744548937652387,5.645057471264368,5.545566004876351,5.4460745384883325,5.346583072100314,5.247091605712296,5.147600139324279,5.048108672936259,4.948617206548242,4.849125740160224,4.749634273772205,4.650142807384187,4.55065134099617,4.45115987460815,4.351668408220132,4.252176941832115,4.152685475444098,4.053194009056078,3.9537025426680596,3.854211076280043,3.7547196098920246,3.655228143504006,3.5557366771159877,3.4562452107279693,3.3567537443399527,3.2572622779519342,3.157770811563914,3.0582793451758974,2.9587878787878807,2.8592964123998605,2.759804946011842,2.6603134796238255,2.560822013235807,2.4613305468477886,2.36183908045977,2.2623476140717518,2.162856147683735,2.0633646812957167,1.9638732149076965,1.8643817485196799,1.7648902821316632,1.6653988157436448,1.5659073493556246,1.466415882967608,1.3669244165795913,1.267432950191571,1.1679414838035527,1.068450017415536,0.9689585510275176,0.8694670846394992,0.7699756182514808,0.6704841518634623,0.5709926854754457,0.47150121908742726,0.37200975269940706,0.2725182863113904,0.173026819923372,0.07353535353535356,-0.02595611285266486,-0.1254475792406815,-0.2249390456287017,-0.32443051201671835,-0.4239219784047368,-0.5234134447927534,-0.6229049111807736,-0.7223963775687903,-0.8218878439568087,-0.9213793103448271],\"type\":\"scatter\"},{\"line\":{\"color\":\"green\"},\"mode\":\"lines\",\"name\":\"Regresi\\u00f3n Lasso\",\"x\":[17.0,17.373737373737374,17.747474747474747,18.12121212121212,18.494949494949495,18.86868686868687,19.242424242424242,19.616161616161616,19.98989898989899,20.363636363636363,20.737373737373737,21.11111111111111,21.484848484848484,21.858585858585858,22.232323232323232,22.606060606060606,22.97979797979798,23.353535353535353,23.727272727272727,24.1010101010101,24.474747474747474,24.848484848484848,25.22222222222222,25.5959595959596,25.96969696969697,26.343434343434346,26.717171717171716,27.090909090909093,27.464646464646464,27.83838383838384,28.21212121212121,28.58585858585859,28.95959595959596,29.333333333333336,29.707070707070706,30.080808080808083,30.454545454545453,30.82828282828283,31.2020202020202,31.575757575757578,31.949494949494948,32.323232323232325,32.696969696969695,33.07070707070707,33.44444444444444,33.81818181818182,34.1919191919192,34.56565656565657,34.93939393939394,35.313131313131315,35.68686868686869,36.06060606060606,36.43434343434343,36.80808080808081,37.18181818181819,37.55555555555556,37.92929292929293,38.303030303030305,38.67676767676768,39.05050505050505,39.42424242424242,39.7979797979798,40.17171717171718,40.54545454545455,40.91919191919192,41.292929292929294,41.66666666666667,42.04040404040404,42.41414141414141,42.78787878787879,43.161616161616166,43.535353535353536,43.90909090909091,44.282828282828284,44.65656565656566,45.03030303030303,45.4040404040404,45.77777777777778,46.151515151515156,46.525252525252526,46.898989898989896,47.27272727272727,47.64646464646465,48.02020202020202,48.39393939393939,48.76767676767677,49.141414141414145,49.515151515151516,49.88888888888889,50.26262626262626,50.63636363636364,51.01010101010101,51.38383838383839,51.75757575757576,52.131313131313135,52.505050505050505,52.87878787878788,53.25252525252525,53.62626262626263,54.0],\"y\":[8.810773480662984,8.715274289859925,8.619775099056866,8.52427590825381,8.428776717450752,8.333277526647692,8.237778335844634,8.142279145041577,8.046779954238518,7.95128076343546,7.855781572632401,7.760282381829343,7.664783191026285,7.569284000223227,7.473784809420169,7.37828561861711,7.282786427814052,7.187287237010994,7.091788046207936,6.996288855404878,6.90078966460182,6.805290473798761,6.709791282995703,6.6142920921926445,6.518792901389587,6.423293710586528,6.32779451978347,6.2322953289804115,6.136796138177354,6.0412969473742955,5.945797756571238,5.8502985657681785,5.754799374965121,5.6593001841620625,5.563800993359005,5.4683018025559464,5.372802611752888,5.2773034209498295,5.181804230146772,5.0863050393437135,4.990805848540656,4.895306657737597,4.79980746693454,4.704308276131481,4.6088090853284225,4.513309894525364,4.417810703722305,4.3223115129192475,4.22681232211619,4.1313131313131315,4.035813940510073,3.9403147497070155,3.8448155589039583,3.7493163681008994,3.6538171772978387,3.5583179864947816,3.4628187956917245,3.3673196048886656,3.2718204140856066,3.1763212232825495,3.0808220324794924,2.9853228416764335,2.8898236508733746,2.7943244600703174,2.6988252692672603,2.6033260784641996,2.5078268876611407,2.4123276968580836,2.3168285060550264,2.2213293152519675,2.1258301244489086,2.0303309336458515,1.9348317428427944,1.8393325520397354,1.7438333612366765,1.6483341704336176,1.5528349796305605,1.4573357888275016,1.3618365980244427,1.2663374072213855,1.1708382164183284,1.0753390256152695,0.9798398348122106,0.8843406440091535,0.7888414532060963,0.6933422624030356,0.5978430715999767,0.5023438807969196,0.4068446899938607,0.31134549919080357,0.21584630838774466,0.12034711758468752,0.024847926781628615,-0.07065126402142852,-0.16615045482448743,-0.26164964562754456,-0.35714883643060524,-0.4526480272336624,-0.5481472180367213,-0.6436464088397784],\"type\":\"scatter\"}],                        {\"template\":{\"data\":{\"histogram2dcontour\":[{\"type\":\"histogram2dcontour\",\"colorbar\":{\"outlinewidth\":0,\"ticks\":\"\"},\"colorscale\":[[0.0,\"#0d0887\"],[0.1111111111111111,\"#46039f\"],[0.2222222222222222,\"#7201a8\"],[0.3333333333333333,\"#9c179e\"],[0.4444444444444444,\"#bd3786\"],[0.5555555555555556,\"#d8576b\"],[0.6666666666666666,\"#ed7953\"],[0.7777777777777778,\"#fb9f3a\"],[0.8888888888888888,\"#fdca26\"],[1.0,\"#f0f921\"]]}],\"choropleth\":[{\"type\":\"choropleth\",\"colorbar\":{\"outlinewidth\":0,\"ticks\":\"\"}}],\"histogram2d\":[{\"type\":\"histogram2d\",\"colorbar\":{\"outlinewidth\":0,\"ticks\":\"\"},\"colorscale\":[[0.0,\"#0d0887\"],[0.1111111111111111,\"#46039f\"],[0.2222222222222222,\"#7201a8\"],[0.3333333333333333,\"#9c179e\"],[0.4444444444444444,\"#bd3786\"],[0.5555555555555556,\"#d8576b\"],[0.6666666666666666,\"#ed7953\"],[0.7777777777777778,\"#fb9f3a\"],[0.8888888888888888,\"#fdca26\"],[1.0,\"#f0f921\"]]}],\"heatmap\":[{\"type\":\"heatmap\",\"colorbar\":{\"outlinewidth\":0,\"ticks\":\"\"},\"colorscale\":[[0.0,\"#0d0887\"],[0.1111111111111111,\"#46039f\"],[0.2222222222222222,\"#7201a8\"],[0.3333333333333333,\"#9c179e\"],[0.4444444444444444,\"#bd3786\"],[0.5555555555555556,\"#d8576b\"],[0.6666666666666666,\"#ed7953\"],[0.7777777777777778,\"#fb9f3a\"],[0.8888888888888888,\"#fdca26\"],[1.0,\"#f0f921\"]]}],\"heatmapgl\":[{\"type\":\"heatmapgl\",\"colorbar\":{\"outlinewidth\":0,\"ticks\":\"\"},\"colorscale\":[[0.0,\"#0d0887\"],[0.1111111111111111,\"#46039f\"],[0.2222222222222222,\"#7201a8\"],[0.3333333333333333,\"#9c179e\"],[0.4444444444444444,\"#bd3786\"],[0.5555555555555556,\"#d8576b\"],[0.6666666666666666,\"#ed7953\"],[0.7777777777777778,\"#fb9f3a\"],[0.8888888888888888,\"#fdca26\"],[1.0,\"#f0f921\"]]}],\"contourcarpet\":[{\"type\":\"contourcarpet\",\"colorbar\":{\"outlinewidth\":0,\"ticks\":\"\"}}],\"contour\":[{\"type\":\"contour\",\"colorbar\":{\"outlinewidth\":0,\"ticks\":\"\"},\"colorscale\":[[0.0,\"#0d0887\"],[0.1111111111111111,\"#46039f\"],[0.2222222222222222,\"#7201a8\"],[0.3333333333333333,\"#9c179e\"],[0.4444444444444444,\"#bd3786\"],[0.5555555555555556,\"#d8576b\"],[0.6666666666666666,\"#ed7953\"],[0.7777777777777778,\"#fb9f3a\"],[0.8888888888888888,\"#fdca26\"],[1.0,\"#f0f921\"]]}],\"surface\":[{\"type\":\"surface\",\"colorbar\":{\"outlinewidth\":0,\"ticks\":\"\"},\"colorscale\":[[0.0,\"#0d0887\"],[0.1111111111111111,\"#46039f\"],[0.2222222222222222,\"#7201a8\"],[0.3333333333333333,\"#9c179e\"],[0.4444444444444444,\"#bd3786\"],[0.5555555555555556,\"#d8576b\"],[0.6666666666666666,\"#ed7953\"],[0.7777777777777778,\"#fb9f3a\"],[0.8888888888888888,\"#fdca26\"],[1.0,\"#f0f921\"]]}],\"mesh3d\":[{\"type\":\"mesh3d\",\"colorbar\":{\"outlinewidth\":0,\"ticks\":\"\"}}],\"scatter\":[{\"fillpattern\":{\"fillmode\":\"overlay\",\"size\":10,\"solidity\":0.2},\"type\":\"scatter\"}],\"parcoords\":[{\"type\":\"parcoords\",\"line\":{\"colorbar\":{\"outlinewidth\":0,\"ticks\":\"\"}}}],\"scatterpolargl\":[{\"type\":\"scatterpolargl\",\"marker\":{\"colorbar\":{\"outlinewidth\":0,\"ticks\":\"\"}}}],\"bar\":[{\"error_x\":{\"color\":\"#2a3f5f\"},\"error_y\":{\"color\":\"#2a3f5f\"},\"marker\":{\"line\":{\"color\":\"#E5ECF6\",\"width\":0.5},\"pattern\":{\"fillmode\":\"overlay\",\"size\":10,\"solidity\":0.2}},\"type\":\"bar\"}],\"scattergeo\":[{\"type\":\"scattergeo\",\"marker\":{\"colorbar\":{\"outlinewidth\":0,\"ticks\":\"\"}}}],\"scatterpolar\":[{\"type\":\"scatterpolar\",\"marker\":{\"colorbar\":{\"outlinewidth\":0,\"ticks\":\"\"}}}],\"histogram\":[{\"marker\":{\"pattern\":{\"fillmode\":\"overlay\",\"size\":10,\"solidity\":0.2}},\"type\":\"histogram\"}],\"scattergl\":[{\"type\":\"scattergl\",\"marker\":{\"colorbar\":{\"outlinewidth\":0,\"ticks\":\"\"}}}],\"scatter3d\":[{\"type\":\"scatter3d\",\"line\":{\"colorbar\":{\"outlinewidth\":0,\"ticks\":\"\"}},\"marker\":{\"colorbar\":{\"outlinewidth\":0,\"ticks\":\"\"}}}],\"scattermapbox\":[{\"type\":\"scattermapbox\",\"marker\":{\"colorbar\":{\"outlinewidth\":0,\"ticks\":\"\"}}}],\"scatterternary\":[{\"type\":\"scatterternary\",\"marker\":{\"colorbar\":{\"outlinewidth\":0,\"ticks\":\"\"}}}],\"scattercarpet\":[{\"type\":\"scattercarpet\",\"marker\":{\"colorbar\":{\"outlinewidth\":0,\"ticks\":\"\"}}}],\"carpet\":[{\"aaxis\":{\"endlinecolor\":\"#2a3f5f\",\"gridcolor\":\"white\",\"linecolor\":\"white\",\"minorgridcolor\":\"white\",\"startlinecolor\":\"#2a3f5f\"},\"baxis\":{\"endlinecolor\":\"#2a3f5f\",\"gridcolor\":\"white\",\"linecolor\":\"white\",\"minorgridcolor\":\"white\",\"startlinecolor\":\"#2a3f5f\"},\"type\":\"carpet\"}],\"table\":[{\"cells\":{\"fill\":{\"color\":\"#EBF0F8\"},\"line\":{\"color\":\"white\"}},\"header\":{\"fill\":{\"color\":\"#C8D4E3\"},\"line\":{\"color\":\"white\"}},\"type\":\"table\"}],\"barpolar\":[{\"marker\":{\"line\":{\"color\":\"#E5ECF6\",\"width\":0.5},\"pattern\":{\"fillmode\":\"overlay\",\"size\":10,\"solidity\":0.2}},\"type\":\"barpolar\"}],\"pie\":[{\"automargin\":true,\"type\":\"pie\"}]},\"layout\":{\"autotypenumbers\":\"strict\",\"colorway\":[\"#636efa\",\"#EF553B\",\"#00cc96\",\"#ab63fa\",\"#FFA15A\",\"#19d3f3\",\"#FF6692\",\"#B6E880\",\"#FF97FF\",\"#FECB52\"],\"font\":{\"color\":\"#2a3f5f\"},\"hovermode\":\"closest\",\"hoverlabel\":{\"align\":\"left\"},\"paper_bgcolor\":\"white\",\"plot_bgcolor\":\"#E5ECF6\",\"polar\":{\"bgcolor\":\"#E5ECF6\",\"angularaxis\":{\"gridcolor\":\"white\",\"linecolor\":\"white\",\"ticks\":\"\"},\"radialaxis\":{\"gridcolor\":\"white\",\"linecolor\":\"white\",\"ticks\":\"\"}},\"ternary\":{\"bgcolor\":\"#E5ECF6\",\"aaxis\":{\"gridcolor\":\"white\",\"linecolor\":\"white\",\"ticks\":\"\"},\"baxis\":{\"gridcolor\":\"white\",\"linecolor\":\"white\",\"ticks\":\"\"},\"caxis\":{\"gridcolor\":\"white\",\"linecolor\":\"white\",\"ticks\":\"\"}},\"coloraxis\":{\"colorbar\":{\"outlinewidth\":0,\"ticks\":\"\"}},\"colorscale\":{\"sequential\":[[0.0,\"#0d0887\"],[0.1111111111111111,\"#46039f\"],[0.2222222222222222,\"#7201a8\"],[0.3333333333333333,\"#9c179e\"],[0.4444444444444444,\"#bd3786\"],[0.5555555555555556,\"#d8576b\"],[0.6666666666666666,\"#ed7953\"],[0.7777777777777778,\"#fb9f3a\"],[0.8888888888888888,\"#fdca26\"],[1.0,\"#f0f921\"]],\"sequentialminus\":[[0.0,\"#0d0887\"],[0.1111111111111111,\"#46039f\"],[0.2222222222222222,\"#7201a8\"],[0.3333333333333333,\"#9c179e\"],[0.4444444444444444,\"#bd3786\"],[0.5555555555555556,\"#d8576b\"],[0.6666666666666666,\"#ed7953\"],[0.7777777777777778,\"#fb9f3a\"],[0.8888888888888888,\"#fdca26\"],[1.0,\"#f0f921\"]],\"diverging\":[[0,\"#8e0152\"],[0.1,\"#c51b7d\"],[0.2,\"#de77ae\"],[0.3,\"#f1b6da\"],[0.4,\"#fde0ef\"],[0.5,\"#f7f7f7\"],[0.6,\"#e6f5d0\"],[0.7,\"#b8e186\"],[0.8,\"#7fbc41\"],[0.9,\"#4d9221\"],[1,\"#276419\"]]},\"xaxis\":{\"gridcolor\":\"white\",\"linecolor\":\"white\",\"ticks\":\"\",\"title\":{\"standoff\":15},\"zerolinecolor\":\"white\",\"automargin\":true,\"zerolinewidth\":2},\"yaxis\":{\"gridcolor\":\"white\",\"linecolor\":\"white\",\"ticks\":\"\",\"title\":{\"standoff\":15},\"zerolinecolor\":\"white\",\"automargin\":true,\"zerolinewidth\":2},\"scene\":{\"xaxis\":{\"backgroundcolor\":\"#E5ECF6\",\"gridcolor\":\"white\",\"linecolor\":\"white\",\"showbackground\":true,\"ticks\":\"\",\"zerolinecolor\":\"white\",\"gridwidth\":2},\"yaxis\":{\"backgroundcolor\":\"#E5ECF6\",\"gridcolor\":\"white\",\"linecolor\":\"white\",\"showbackground\":true,\"ticks\":\"\",\"zerolinecolor\":\"white\",\"gridwidth\":2},\"zaxis\":{\"backgroundcolor\":\"#E5ECF6\",\"gridcolor\":\"white\",\"linecolor\":\"white\",\"showbackground\":true,\"ticks\":\"\",\"zerolinecolor\":\"white\",\"gridwidth\":2}},\"shapedefaults\":{\"line\":{\"color\":\"#2a3f5f\"}},\"annotationdefaults\":{\"arrowcolor\":\"#2a3f5f\",\"arrowhead\":0,\"arrowwidth\":1},\"geo\":{\"bgcolor\":\"white\",\"landcolor\":\"#E5ECF6\",\"subunitcolor\":\"white\",\"showland\":true,\"showlakes\":true,\"lakecolor\":\"white\"},\"title\":{\"x\":0.05},\"mapbox\":{\"style\":\"light\"}}},\"xaxis\":{\"anchor\":\"y\",\"domain\":[0.0,1.0],\"title\":{\"text\":\"Edad del Estudiante\"}},\"yaxis\":{\"anchor\":\"x\",\"domain\":[0.0,1.0],\"title\":{\"text\":\"Cantidad de Retrasos\"}},\"legend\":{\"tracegroupgap\":0},\"title\":{\"text\":\"Diagrama de Dispersi\\u00f3n: Edad vs Retrasos\"},\"height\":600,\"annotations\":[{\"font\":{\"color\":\"red\"},\"showarrow\":false,\"text\":\"Regresi\\u00f3n Ridge: Retrasos = 13.45 + (-0.27 * Edad)\",\"x\":1.1,\"xref\":\"paper\",\"y\":1.1,\"yref\":\"paper\"},{\"font\":{\"color\":\"green\"},\"showarrow\":false,\"text\":\"Regresi\\u00f3n Lasso: Retrasos = 13.15 + (-0.26 * Edad)\",\"x\":1.1,\"xref\":\"paper\",\"y\":1.05,\"yref\":\"paper\"}]},                        {\"responsive\": true}                    ).then(function(){\n",
       "                            \n",
       "var gd = document.getElementById('69885c10-2a4d-4d12-b72b-cd7d8715c2b9');\n",
       "var x = new MutationObserver(function (mutations, observer) {{\n",
       "        var display = window.getComputedStyle(gd).display;\n",
       "        if (!display || display === 'none') {{\n",
       "            console.log([gd, 'removed!']);\n",
       "            Plotly.purge(gd);\n",
       "            observer.disconnect();\n",
       "        }}\n",
       "}});\n",
       "\n",
       "// Listen for the removal of the full notebook cells\n",
       "var notebookContainer = gd.closest('#notebook-container');\n",
       "if (notebookContainer) {{\n",
       "    x.observe(notebookContainer, {childList: true});\n",
       "}}\n",
       "\n",
       "// Listen for the clearing of the current output cell\n",
       "var outputEl = gd.closest('.output');\n",
       "if (outputEl) {{\n",
       "    x.observe(outputEl, {childList: true});\n",
       "}}\n",
       "\n",
       "                        })                };                });            </script>        </div>"
      ]
     },
     "metadata": {},
     "output_type": "display_data"
    }
   ],
   "source": [
    "# Your code here.\n",
    "\n",
    "# Crear gráfico de dispersión con Plotly para los datos originales\n",
    "fig = px.scatter(student_data, x='Edad', y='Retrasos', \n",
    "                 title='Diagrama de Dispersión: Edad vs Retrasos',\n",
    "                 labels={'Edad': 'Edad del Estudiante', 'Retrasos': 'Cantidad de Retrasos'},\n",
    "                 hover_data=['StudentID'],\n",
    "                 height=600)  # Mantener la altura especificada\n",
    "\n",
    "# Definir rango de valores para las líneas de regresión\n",
    "x_range = np.linspace(student_data['Edad'].min(), student_data['Edad'].max(), 100).reshape(-1, 1)\n",
    "\n",
    "# Predicciones de los modelos sobre el rango de valores\n",
    "ridge_preds = ridge_model.predict(x_range)\n",
    "lasso_preds = lasso_model.predict(x_range)\n",
    "\n",
    "# Agregar líneas de regresión al gráfico de Plotly para Ridge y Lasso\n",
    "fig.add_scatter(x=x_range.flatten(), y=ridge_preds, mode='lines', name='Regresión Ridge', line=dict(color='red'))\n",
    "fig.add_scatter(x=x_range.flatten(), y=lasso_preds, mode='lines', name='Regresión Lasso', line=dict(color='green'))\n",
    "\n",
    "# Obtener las ecuaciones de las regresiones\n",
    "ridge_eq = f'Regresión Ridge: Retrasos = {ridge_model.intercept_:.2f} + ({ridge_model.coef_[0]:.2f} * Edad)'\n",
    "lasso_eq = f'Regresión Lasso: Retrasos = {lasso_model.intercept_:.2f} + ({lasso_model.coef_[0]:.2f} * Edad)'\n",
    "\n",
    "# Añadir anotaciones con las ecuaciones fuera del gráfico\n",
    "fig.add_annotation(x=1.1, y=1.1, xref='paper', yref='paper',\n",
    "                   text=ridge_eq, showarrow=False, font=dict(color='red'))\n",
    "fig.add_annotation(x=1.1, y=1.05, xref='paper', yref='paper',\n",
    "                   text=lasso_eq, showarrow=False, font=dict(color='green'))\n",
    "\n",
    "fig.show()\n"
   ]
  },
  {
   "cell_type": "markdown",
   "metadata": {},
   "source": [
    "Interpreta los resultados de tu modelo. ¿Qué conclusiones puedes sacar de tu modelo y qué tan confiado estás en estas conclusiones? ¿Podemos decir que la edad es un buen predictor de la tardanza? Agrega tus respuestas como comentarios después de tu código."
   ]
  },
  {
   "cell_type": "markdown",
   "metadata": {},
   "source": [
    "*tu explicación aquí*"
   ]
  },
  {
   "cell_type": "markdown",
   "metadata": {},
   "source": [
    "---\n",
    "\n",
    "### Interpretación de los Resultados del Modelo\n",
    "\n",
    "Basado en los resultados de los modelos de regresión Ridge y Lasso:\n",
    "\n",
    "- **Regresión Ridge**: Ecuación de la regresión: Retrasos = 13.45 - 0.27 * Edad, MSE: 1.05\n",
    "- **Regresión Lasso**: Ecuación de la regresión: Retrasos = 13.15 - 0.26 * Edad, MSE: 0.59\n",
    "\n",
    "**Conclusiones:**\n",
    "\n",
    "1. **Tendencia**: Ambos modelos muestran una tendencia negativa, indicando que a medida que aumenta la edad del estudiante, tiende a disminuir la cantidad de retrasos.\n",
    "\n",
    "2. **Coeficientes**: Los coeficientes negativos (-0.27 para Ridge y -0.26 para Lasso) sugieren que la edad está inversamente relacionada con los retrasos. Es decir, los estudiantes más jóvenes tienden a tener más retrasos que los estudiantes mayores.\n",
    "\n",
    "3. **Error Cuadrático Medio (MSE)**: El MSE más bajo en el modelo Lasso (0.59) indica que este modelo tiene un mejor ajuste a los datos en comparación con Ridge (MSE: 1.05). Esto sugiere que Lasso podría estar haciendo una mejor selección de características relevantes para predecir los retrasos.\n",
    "\n",
    "4. **Confianza**: Aunque los modelos muestran una relación inversa significativa entre la edad y los retrasos, la confianza en estas conclusiones depende de varios factores como la calidad de los datos, la representatividad de la muestra, y la adecuación del modelo de regresión elegido.\n",
    "\n",
    "5. **Predicción de la Tardanza**: La edad parece ser un predictor razonable de la tardanza según estos modelos. Sin embargo, es importante considerar que otros factores no incluidos en este análisis podrían influir en el comportamiento de los estudiantes.\n",
    "\n",
    "Estas conclusiones son provisionales y podrían ser más sólidas con un análisis más profundo y la validación cruzada de los modelos.\n",
    "\n",
    "\n",
    "---"
   ]
  },
  {
   "cell_type": "markdown",
   "metadata": {},
   "source": [
    "## Desafío 2\n",
    "Para la segunda parte de este laboratorio, utilizaremos el conjunto de datos vehicles.csv. Puedes encontrar una copia del conjunto de datos en la carpeta de GitHub. Este conjunto de datos incluye variables relacionadas con las características de los vehículos, incluyendo el modelo, la marca y los estándares de eficiencia energética, así como las emisiones de CO2 de cada coche. Como se discutió en clase, el objetivo de este ejercicio es predecir las emisiones de CO2 de los vehículos basándose en varias variables independientes."
   ]
  },
  {
   "cell_type": "code",
   "execution_count": 32,
   "metadata": {},
   "outputs": [],
   "source": [
    "# Import any libraries you may need & the data\n",
    "vehicles = pd.read_csv(\"../vehicles.csv\")"
   ]
  },
  {
   "cell_type": "code",
   "execution_count": 34,
   "metadata": {},
   "outputs": [
    {
     "data": {
      "text/plain": [
       "Make                        object\n",
       "Model                       object\n",
       "Year                         int64\n",
       "Engine Displacement        float64\n",
       "Cylinders                  float64\n",
       "Transmission                object\n",
       "Drivetrain                  object\n",
       "Vehicle Class               object\n",
       "Fuel Type                   object\n",
       "Fuel Barrels/Year          float64\n",
       "City MPG                     int64\n",
       "Highway MPG                  int64\n",
       "Combined MPG                 int64\n",
       "CO2 Emission Grams/Mile    float64\n",
       "Fuel Cost/Year               int64\n",
       "dtype: object"
      ]
     },
     "execution_count": 34,
     "metadata": {},
     "output_type": "execute_result"
    }
   ],
   "source": [
    "vehicles.dtypes"
   ]
  },
  {
   "cell_type": "markdown",
   "metadata": {},
   "source": [
    "Vamos a utilizar las siguientes variables para nuestro análisis: Año, Cilindros, Barriles de Combustible/Año, MPG Combinado, y Costo de Combustible/Año. Utilizaremos 'Emisiones de CO2 Gramos/Milla' como nuestra variable de resultado.\n",
    "\n",
    "Calcula las correlaciones entre cada una de estas variables y el resultado. ¿Cuál variable crees que será la más importante para determinar las emisiones de CO2? ¿Cuál proporciona la menor cantidad de información útil para determinar las emisiones de CO2? Agrega tus respuestas como comentarios después de tu código."
   ]
  },
  {
   "cell_type": "code",
   "execution_count": 35,
   "metadata": {},
   "outputs": [
    {
     "name": "stdout",
     "output_type": "stream",
     "text": [
      "Correlaciones con las Emisiones de CO2:\n",
      "CO2 Emission Grams/Mile    1.000000\n",
      "Fuel Barrels/Year          0.986189\n",
      "Fuel Cost/Year             0.930865\n",
      "Cylinders                  0.752393\n",
      "Year                      -0.222300\n",
      "Combined MPG              -0.926229\n",
      "Name: CO2 Emission Grams/Mile, dtype: float64\n"
     ]
    }
   ],
   "source": [
    "# Your code here.\n",
    "\n",
    "# Seleccionar las variables de interés\n",
    "variables_interes = ['Year', 'Cylinders', 'Fuel Barrels/Year', 'Combined MPG', 'Fuel Cost/Year', 'CO2 Emission Grams/Mile']\n",
    "\n",
    "# Obtener el subconjunto de datos con las variables de interés\n",
    "subset_data = vehicles[variables_interes]\n",
    "\n",
    "# Calcular correlaciones\n",
    "correlations = subset_data.corr()['CO2 Emission Grams/Mile'].sort_values(ascending=False)\n",
    "\n",
    "# Mostrar correlaciones\n",
    "print(\"Correlaciones con las Emisiones de CO2:\")\n",
    "print(correlations)"
   ]
  },
  {
   "cell_type": "markdown",
   "metadata": {},
   "source": [
    "---\n",
    "\n",
    "### Interpretación de los Resultados de Correlación\n",
    "\n",
    "Las correlaciones entre las variables seleccionadas y las Emisiones de CO2 Gramos/Milla son las siguientes:\n",
    "\n",
    "- **CO2 Emission Grams/Mile**: Correlación perfecta consigo misma, como es de esperar (correlación de 1.0).\n",
    "- **Fuel Barrels/Year**: Correlación alta positiva de 0.986, indicando que existe una fuerte relación positiva entre los Barriles de Combustible/Año y las Emisiones de CO2. A medida que aumentan los barriles de combustible utilizados por año, también aumentan las emisiones de CO2.\n",
    "- **Fuel Cost/Year**: Correlación alta positiva de 0.931, lo que sugiere que el Costo de Combustible por Año está fuertemente asociado positivamente con las Emisiones de CO2. Esto indica que vehículos que consumen más combustible anualmente también tienden a emitir más CO2.\n",
    "- **Cylinders**: Correlación positiva de 0.752, mostrando que el número de Cilindros en el motor está moderadamente relacionado con las Emisiones de CO2. Motores con más cilindros tienden a producir más emisiones de CO2.\n",
    "- **Year**: Correlación negativa de -0.222, lo que sugiere una relación débil negativa entre el Año del vehículo y las Emisiones de CO2. Esto podría indicar que vehículos más recientes podrían tener tecnologías más eficientes en términos de emisiones.\n",
    "- **Combined MPG**: Correlación negativa alta de -0.926, indicando una fuerte relación negativa entre el MPG Combinado y las Emisiones de CO2. A medida que aumenta el MPG combinado (mayor eficiencia de combustible), las emisiones de CO2 tienden a disminuir.\n",
    "\n",
    "Estas correlaciones indican qué tan fuertemente cada variable está asociada con las Emisiones de CO2. Variables como los Barriles de Combustible/Año y el MPG Combinado parecen ser predictores muy importantes de las emisiones de CO2, mientras que el Año tiene una relación más débil y podría ser menos informativo para predecir las emisiones de CO2.\n",
    "\n",
    "\n",
    "---"
   ]
  },
  {
   "cell_type": "markdown",
   "metadata": {},
   "source": [
    "Construye un modelo de regresión para estos datos. ¿Qué tipo de regresión estás utilizando? Agrega tus respuestas como comentarios después de tu código."
   ]
  },
  {
   "cell_type": "code",
   "execution_count": 36,
   "metadata": {},
   "outputs": [
    {
     "name": "stdout",
     "output_type": "stream",
     "text": [
      "Regresión Ridge - Coeficientes: [-0.31560031  1.79404587 19.23071686 -2.9336661   0.03197306], Intercepto: 755.7247932682665, MSE: 289.82670499242187\n",
      "Regresión Lasso - Coeficientes: [-0.29896728  0.97729367 19.0289437  -2.8875049   0.03623309], Intercepto: 721.7245251019526, MSE: 291.0645366510233\n"
     ]
    }
   ],
   "source": [
    "# Your code here.\n",
    "\n",
    "# Definir variables predictoras (X) y variable de resultado (y)\n",
    "X = subset_data.drop('CO2 Emission Grams/Mile', axis=1)  # Todas las columnas excepto la variable objetivo\n",
    "y = subset_data['CO2 Emission Grams/Mile']\n",
    "\n",
    "# Dividir los datos en entrenamiento y prueba\n",
    "X_train, X_test, y_train, y_test = train_test_split(X, y, test_size=0.2, random_state=42)\n",
    "\n",
    "# Modelo de Regresión Ridge\n",
    "ridge_model = Ridge(alpha=1.0)  # alpha es el parámetro de regularización\n",
    "ridge_model.fit(X_train, y_train)\n",
    "\n",
    "# Modelo de Regresión Lasso\n",
    "lasso_model = Lasso(alpha=1.0)  # alpha es el parámetro de regularización\n",
    "lasso_model.fit(X_train, y_train)\n",
    "\n",
    "# Evaluar modelos\n",
    "ridge_pred = ridge_model.predict(X_test)\n",
    "lasso_pred = lasso_model.predict(X_test)\n",
    "\n",
    "# Calcular el error cuadrático medio (MSE)\n",
    "ridge_mse = mean_squared_error(y_test, ridge_pred)\n",
    "lasso_mse = mean_squared_error(y_test, lasso_pred)\n",
    "\n",
    "# Mostrar resultados\n",
    "print(f\"Regresión Ridge - Coeficientes: {ridge_model.coef_}, Intercepto: {ridge_model.intercept_}, MSE: {ridge_mse}\")\n",
    "print(f\"Regresión Lasso - Coeficientes: {lasso_model.coef_}, Intercepto: {lasso_model.intercept_}, MSE: {lasso_mse}\")\n"
   ]
  },
  {
   "cell_type": "markdown",
   "metadata": {},
   "source": [
    "Imprime el resumen de tu regresión e interpreta los resultados. ¿Cuáles son las variables más importantes en tu modelo y por qué? ¿Qué conclusiones puedes sacar de tu modelo y qué tan confiado estás en estas conclusiones? Agrega tus respuestas como comentarios después de tu código."
   ]
  },
  {
   "cell_type": "code",
   "execution_count": null,
   "metadata": {},
   "outputs": [],
   "source": [
    "# Your code here."
   ]
  },
  {
   "cell_type": "markdown",
   "metadata": {},
   "source": [
    "---\n",
    "\n",
    "### Resumen de la Regresión\n",
    "\n",
    "#### Regresión Ridge\n",
    "- **Coeficientes:** [-0.31560031, 1.79404587, 19.23071686, -2.9336661, 0.03197306]\n",
    "- **Intercepto:** 755.7247932682665\n",
    "- **MSE (Error Cuadrático Medio):** 289.82670499242187\n",
    "\n",
    "#### Regresión Lasso\n",
    "- **Coeficientes:** [-0.29896728, 0.97729367, 19.0289437, -2.8875049, 0.03623309]\n",
    "- **Intercepto:** 721.7245251019526\n",
    "- **MSE (Error Cuadrático Medio):** 291.0645366510233\n",
    "\n",
    "### Interpretación de los Resultados\n",
    "\n",
    "#### Variables Importantes\n",
    "- Ambos modelos muestran que las variables más importantes para predecir las emisiones de CO2 son:\n",
    "  - **Fuel Barrels/Year:** Con coeficientes positivos significativos en ambos modelos, indicando que un mayor consumo de barriles de combustible por año está fuertemente asociado con mayores emisiones de CO2.\n",
    "  - **Combined MPG:** Con coeficientes negativos en ambos modelos, sugiriendo que vehículos más eficientes en consumo de combustible tienden a tener menores emisiones de CO2.\n",
    "  - **Year:** Con coeficiente negativo en Ridge y cercano a cero en Lasso, indicando una ligera tendencia de reducción de emisiones a lo largo de los años en el modelo Ridge.\n",
    "  \n",
    "#### Conclusiones\n",
    "- Basado en los coeficientes y el MSE obtenido, podemos concluir que tanto Ridge como Lasso sugieren que el consumo de combustible (representado por Fuel Barrels/Year y Combined MPG) es un predictor significativo de las emisiones de CO2.\n",
    "- La robustez del modelo podría estar limitada por la disponibilidad de datos y la complejidad de los factores que influyen en las emisiones de CO2 de los vehículos.\n",
    "- Aunque las variables seleccionadas muestran relaciones significativas, siempre hay que considerar otras posibles variables que podrían influir en las emisiones de CO2 y que no se incluyen en este modelo.\n",
    "\n",
    "---"
   ]
  },
  {
   "cell_type": "markdown",
   "metadata": {},
   "source": [
    "## Desafío Extra: Análisis de Errores\n",
    "\n",
    "Estoy sospechando de las últimas fiestas que he organizado: parece que cuanto más gente invito, más personas no pueden asistir. Para saber si mi presentimiento está respaldado por los datos, he decidido hacer un análisis. He recopilado mis datos en la tabla a continuación, donde X es el número de personas que invité, y Y es el número de personas que asistieron.\n",
    "\n",
    "|  X |  Y |\n",
    "|----|----|\n",
    "| 1  |  1 |\n",
    "| 3  |  2 |\n",
    "| 4  |  4 |\n",
    "| 6  |  4 |\n",
    "| 8  |  5 |\n",
    "| 9  |  7 |\n",
    "| 11 |  8 |\n",
    "| 14 |  13 |\n",
    "\n",
    "Queremos saber si la relación modelada por las dos variables aleatorias es lineal o no, y por lo tanto, si es apropiado modelarla con una regresión lineal.\n",
    "Primero, construye un dataframe con los datos."
   ]
  },
  {
   "cell_type": "code",
   "execution_count": null,
   "metadata": {},
   "outputs": [],
   "source": [
    "# Your code here."
   ]
  },
  {
   "cell_type": "markdown",
   "metadata": {},
   "source": [
    "Dibuja un diagrama de dispersión (scatter plot) para los datos y ajusta una línea de regresión."
   ]
  },
  {
   "cell_type": "code",
   "execution_count": null,
   "metadata": {},
   "outputs": [],
   "source": [
    "# Your code here."
   ]
  },
  {
   "cell_type": "markdown",
   "metadata": {},
   "source": [
    "¿Qué ves? ¿Qué te indica este gráfico sobre la probable relación entre las variables? Imprime los resultados de tu regresión."
   ]
  },
  {
   "cell_type": "markdown",
   "metadata": {},
   "source": [
    "*tu explicación aquí*"
   ]
  },
  {
   "cell_type": "markdown",
   "metadata": {},
   "source": [
    "¿Ves algún punto problemático o valores atípicos en tus datos? Elimina estos puntos y recalcula tu regresión. Imprime el nuevo diagrama de dispersión con tu nuevo modelo y los resultados de tu modelo."
   ]
  },
  {
   "cell_type": "code",
   "execution_count": 2,
   "metadata": {},
   "outputs": [],
   "source": [
    "# Your response here."
   ]
  },
  {
   "cell_type": "markdown",
   "metadata": {},
   "source": [
    "¿Qué cambió? Basado en los resultados de los dos modelos y tus gráficos, ¿qué puedes decir sobre la forma de los datos con el punto problemático y sin él?"
   ]
  },
  {
   "cell_type": "markdown",
   "metadata": {},
   "source": [
    "*tu explicación aquí*"
   ]
  }
 ],
 "metadata": {
  "kernelspec": {
   "display_name": "Python 3 (ipykernel)",
   "language": "python",
   "name": "python3"
  },
  "language_info": {
   "codemirror_mode": {
    "name": "ipython",
    "version": 3
   },
   "file_extension": ".py",
   "mimetype": "text/x-python",
   "name": "python",
   "nbconvert_exporter": "python",
   "pygments_lexer": "ipython3",
   "version": "3.10.12"
  }
 },
 "nbformat": 4,
 "nbformat_minor": 4
}
